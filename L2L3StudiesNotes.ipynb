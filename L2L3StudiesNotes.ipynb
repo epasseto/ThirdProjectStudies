{
 "cells": [
  {
   "cell_type": "markdown",
   "id": "c11a76fb",
   "metadata": {},
   "source": [
    "# Studies Notes"
   ]
  },
  {
   "cell_type": "markdown",
   "id": "9a75912c",
   "metadata": {},
   "source": [
    "# Lesson 2\n",
    "\n",
    "\n",
    "## Concepts in Experiment Design\n",
    "\n",
    "These are some personal studies notes about Udacity course of Data Science. They don´t represent the content of the course, and can present a lot of inconsistencies. It is only to follow the thinking line in order to create useful functions for future projects.\n",
    "\n",
    "---\n",
    "\n",
    "#### Between-subjects design - 1 participant = 1 condition\n",
    "\n",
    "- A/B test - compare performance between A and B\n",
    "\n",
    "#### Within-subjects design - 1 participant = n conditions (like a degustation)\n",
    "\n",
    "- only one rate: personal inclination + a good formula (a lot of variance - someone have the inclination to give allways good rates - e.g. over 8)\n",
    "\n",
    "- other rates: individual full preferences $\\rightarrow$ reduces variance on data\n",
    "\n",
    "- you can also have +1 conditions (e.g. 1 control group + 2 experiment groups)\n",
    "\n",
    "- and... you can collect data in different ways, compare their meaning to turn your model more robust"
   ]
  },
  {
   "cell_type": "markdown",
   "id": "243cc2ce",
   "metadata": {},
   "source": [
    "### Types of sampling\n",
    "\n",
    "#### Strategy1: sample over the population \n",
    "\n",
    "- considers that it is homogeneous\n",
    "\n",
    "- **Simple Random Sampling** $\\rightarrow$  all members = equal chance of selection\n",
    "\n",
    "#### Strategy2: break it in subgoups \n",
    "\n",
    "- e.g. in one district, rural zone people have one kind of life, and people living in city zone have another colpletely kind of life (probably different prefferences)\n",
    "\n",
    "- **Stratified Random Sampling** $\\rightarrow$ each subgroup, have an equal number of relative to its population\n",
    "\n",
    "- the variability now was not left to chance!"
   ]
  },
  {
   "cell_type": "markdown",
   "id": "7533678e",
   "metadata": {},
   "source": [
    "### Measuring outcomes\n",
    "\n",
    "Sepparate: goal x measure of success\n",
    "\n",
    "Goal: \"improve the recommendations $\\rightarrow$ get better performance\"\n",
    "\n",
    "Evaluation metrics: \n",
    "\n",
    "- watch time\n",
    "\n",
    "- ranking\n",
    "\n",
    "- number of searches (they are **concrete**, measurable)\n",
    "\n",
    "Take care that your metrics are:\n",
    "\n",
    "- alligned with the goals that we set\n",
    "\n",
    "- changing of a metric is NOT the main poin of the study!\n",
    "\n",
    "- implications of this change is what is important\n",
    "\n",
    "- goal $\\rightarrow$ center purpose of your study"
   ]
  },
  {
   "cell_type": "markdown",
   "id": "60880f40",
   "metadata": {},
   "source": [
    "### Creating metrics\n",
    "\n",
    "You have one, or more hypothesis, as \"inserting a picture, increases the chance of a purchase\"\n",
    "\n",
    "Your so your **purchase sequence** $\\rightarrow$ **User Funnel** (steps or path, finishing to destination state)\n",
    "\n",
    "And you can have **alternative** User Funnels! (Unit of Diversion - observational unit to split users)\n",
    "\n",
    "1. **Evaluation Metrics** $\\rightarrow$ features that provide $\\rightarrow$ Objective Measurements \n",
    "\n",
    "- measure the success of a experimental manipulation\n",
    "\n",
    "- purchases x view, etc..\n",
    "\n",
    "2. **Invariant Metrics** $\\rightarrow$ objectively check the equivalence of the groups"
   ]
  },
  {
   "cell_type": "markdown",
   "id": "bd9f667a",
   "metadata": {},
   "source": [
    "### Controlling variables\n",
    "\n",
    "Our **goal**: hability to say $\\rightarrow$  changes to variable 1 $\\rightarrow$  cause changes in variable 2 \n",
    "\n",
    "- I need to control the effects of other variables!"
   ]
  },
  {
   "cell_type": "markdown",
   "id": "f42757b2",
   "metadata": {},
   "source": [
    "### Analysis Traps\n",
    "\n",
    "Confounding Variable $\\rightarrow$ hidden variable(s) that modulate both the (apparent) **\"cause\"** and **\"consequence\"**"
   ]
  },
  {
   "cell_type": "markdown",
   "id": "d3845703",
   "metadata": {},
   "source": [
    "### Checking validity\n",
    "\n",
    "What they say = what they mean \n",
    "\n",
    "**Experimental Validity** is: \n",
    "    \n",
    "- degree of experiments $\\rightarrow$ accomplishes the stated conclusions\n",
    "\n",
    "#### The 3 ways for a experiment to be valid\n",
    "\n",
    "**Construct Validity**:\n",
    "\n",
    " - objective metric results $\\rightarrow$ goals of the study (degree) \n",
    "\n",
    "**Internal Validity**: \n",
    "\n",
    "- claims of causality $\\rightarrow$ supported by the analysis (ensure) \n",
    "\n",
    "**External Validity**: \n",
    "\n",
    "- experiments results $\\rightarrow$ generalizes to cases outside the experiment (degree)"
   ]
  },
  {
   "cell_type": "markdown",
   "id": "9a6d2ef1",
   "metadata": {},
   "source": [
    "### Checking bias\n",
    "\n",
    "*Biologically*: \n",
    "    \n",
    "- bias = quick efficient decisions\n",
    "\n",
    "In an **Experiment**: \n",
    "    \n",
    "- represents systematic errors $\\rightarrow$ bad interpretations of the results\n",
    "\n",
    "\n",
    "**Sampling Bias** $\\leftarrow$ the **Sample** don't represent your **Population**\n",
    "\n",
    "- geography, subgroups...\n",
    "\n",
    "- self-selection (\"OK, we, all the motoboys present in this bar voluntarize to make the test!\") - sampling bias\n",
    "\n",
    "- error on randomization\n",
    "\n",
    "- novelty bias\n",
    "\n",
    "- order bias (primacy bias, recency bias)"
   ]
  },
  {
   "cell_type": "markdown",
   "id": "6448a740",
   "metadata": {},
   "source": [
    "### Statistical Significance - SMART\n",
    "\n",
    "- Specific\n",
    "\n",
    "- Measurable\n",
    "\n",
    "- Achievable\n",
    "\n",
    "- Relevant\n",
    "\n",
    "- Timely fashion"
   ]
  },
  {
   "cell_type": "markdown",
   "id": "d76b3521",
   "metadata": {},
   "source": [
    "---\n",
    "\n",
    "# Lesson 3\n",
    "\n",
    "## Statistical Considerations into testing\n",
    "\n",
    "## First Notebook - L2 - Statistical Significance\n",
    "\n",
    "I have a randomizer cookie $\\rightarrow$ I want to know if it is really randomizing well (50%-50%)\n",
    "\n",
    "- perhaps you have more than one **Webservice**, and one is providing only one version for their clients\n",
    "\n",
    "- perhaps my **randomizer algorithm** is not working so well\n",
    "\n",
    "#### In Udacity text:\n",
    "\n",
    "\"Let's say that we've collected data for a web-based experiment. In the experiment, we're testing the change in layout of a product information page to see if this affects the proportion of people who click on a button to go to the download page. This experiment has been designed to have a cookie-based diversion, and we record two things from each user: which page version they received, and whether or not they accessed the download page during the data recording period. (We aren't keeping track of any other factors in this example, such as number of pageviews, or time between accessing the page and making the download, that might be of further interest.)\"\n",
    "\n",
    "#### Task\n",
    "\n",
    "Our objective in this notebook is to perform a statistical test on both recorded metrics to see if there is a statistical difference between the two groups."
   ]
  },
  {
   "cell_type": "code",
   "execution_count": 1,
   "id": "91bec9a6",
   "metadata": {},
   "outputs": [],
   "source": [
    "#import libraries\n",
    "import numpy as np\n",
    "import pandas as pd\n",
    "import scipy.stats as stats\n",
    "import matplotlib.pyplot as plt\n",
    "import seaborn as sns\n",
    "\n",
    "from statsmodels.stats import proportion as proptests\n",
    "from statsmodels.stats.power import NormalIndPower\n",
    "from statsmodels.stats.proportion import proportion_effectsize\n",
    "from time import time\n",
    "#% matplotlib inline"
   ]
  },
  {
   "cell_type": "markdown",
   "id": "504bf959",
   "metadata": {},
   "source": [
    "Import data\n",
    "\n",
    "- this data emulates a server distribution of two different websites, 1 is Group A and 2 is Group B\n",
    "\n",
    "- the idea is to check if they were fair distributed or not"
   ]
  },
  {
   "cell_type": "code",
   "execution_count": 2,
   "id": "4cdf9ee3",
   "metadata": {},
   "outputs": [
    {
     "data": {
      "text/html": [
       "<div>\n",
       "<style scoped>\n",
       "    .dataframe tbody tr th:only-of-type {\n",
       "        vertical-align: middle;\n",
       "    }\n",
       "\n",
       "    .dataframe tbody tr th {\n",
       "        vertical-align: top;\n",
       "    }\n",
       "\n",
       "    .dataframe thead th {\n",
       "        text-align: right;\n",
       "    }\n",
       "</style>\n",
       "<table border=\"1\" class=\"dataframe\">\n",
       "  <thead>\n",
       "    <tr style=\"text-align: right;\">\n",
       "      <th></th>\n",
       "      <th>condition</th>\n",
       "      <th>click</th>\n",
       "    </tr>\n",
       "  </thead>\n",
       "  <tbody>\n",
       "    <tr>\n",
       "      <th>0</th>\n",
       "      <td>1</td>\n",
       "      <td>0</td>\n",
       "    </tr>\n",
       "    <tr>\n",
       "      <th>1</th>\n",
       "      <td>0</td>\n",
       "      <td>0</td>\n",
       "    </tr>\n",
       "  </tbody>\n",
       "</table>\n",
       "</div>"
      ],
      "text/plain": [
       "   condition  click\n",
       "0          1      0\n",
       "1          0      0"
      ]
     },
     "execution_count": 2,
     "metadata": {},
     "output_type": "execute_result"
    }
   ],
   "source": [
    "df = pd.read_csv('data/statistical_significance_data.csv')\n",
    "df.head(2)"
   ]
  },
  {
   "cell_type": "markdown",
   "id": "73542243",
   "metadata": {},
   "source": [
    "#### I. Check de **Invariant Metric**:\n",
    "\n",
    "\n",
    "- if they are imbalanced $\\rightarrow$ subgroups may exist! $\\rightarrow$ data is **biased**!\n",
    "\n",
    "- in this case, one of your webservices could be providing only one of the options\n",
    "\n",
    "- for 2-sided tests $\\rightarrow$ test the **proportion** of visitors for each group\n",
    "\n",
    "\n",
    "### in our case\n",
    "\n",
    "#### The number of accesses for g1 and g2 is similar?\n",
    "\n",
    "It is a **invariant metric** (a ground prerequisite for our inference):\n",
    "\n",
    "- if the distribution is not 50-50, this will be a **unbalanced group**\n",
    "\n",
    "- so verify with care for **bias**, as the existence of subgroups on our population (server 1 that caused the problem is placed on an area that is more accessed by older people, etc..)\n",
    "\n",
    "- in the worst case, you will need to **remake** your experiment!\n",
    "\n",
    "#### Using 2-sided hypothesis test\n",
    "\n",
    "In this case:\n",
    "\n",
    "- don´t matter Who is the **Control** and who is the **Experiment** group\n",
    "\n",
    "I am using Standard Deviation for **Binomial Distribution**. I can find some material [here](https://www.statisticshowto.com/probability-and-statistics/standard-deviation/) and the formula is:\n",
    "\n",
    "![stdeviationBinomial](graphs/stdevBinomial.gif)\n",
    "\n",
    "#### In Udacity text:\n",
    "\n",
    "\"In the dataset, the 'condition' column takes a 0 for the control group, and 1 for the experimental group. The 'click' column takes a values of 0 for no click, and 1 for a click.\n",
    "\n",
    "### Checking the Invariant Metric\n",
    "\n",
    "#### In Udacity text:\n",
    "\n",
    "\"First of all, we should check that the number of visitors assigned to each group is similar. It's important to check the invariant metrics as a prerequisite so that our inferences on the evaluation metrics are founded on solid ground. If we find that the two groups are imbalanced on the invariant metric, then this will require us to look carefully at how the visitors were split so that any sources of bias are accounted for. It's possible that a statistically significant difference in an invariant metric will require us to revise random assignment procedures and re-do data collection.\n",
    "\n",
    "In this case, we want to do a two-sided hypothesis test on the proportion of visitors assigned to one of our conditions. Choosing the control or the experimental condition doesn't matter: you'll get the same result either way. Feel free to use whatever method you'd like: we'll highlight two main avenues below.\n",
    "\n",
    "You can check your results by completing the following the workspace and the solution on the following page. You could also try using multiple approaches and seeing if they come up with similar outcomes!\""
   ]
  },
  {
   "cell_type": "markdown",
   "id": "4067c021",
   "metadata": {},
   "source": [
    "### Analytic approach\n",
    "\n",
    "a. **exact Binomial Distribution** $\\rightarrow$ **p-value** of the test or\n",
    "\n",
    "b. **Normal Distribution** approximation (it works due to **Central Limit Theorem**) $\\leftarrow$ for **large** sample size\n",
    "\n",
    "**b** is the more usual approach\n",
    "\n",
    "and then... for a precise **p-value**:\n",
    "\n",
    "- perform a **Continuity Correction**, adding or subtraction 0.5 from the total count before computing the area underneath de curve"
   ]
  },
  {
   "cell_type": "markdown",
   "id": "22baf515",
   "metadata": {},
   "source": [
    "#### In Udacity text:\n",
    "\n",
    "\"If you want to take an analytic approach, you could use the exact binomial distribution to compute a p-value for the test. The more usual approach, however, is to use the normal distribution approximation. Recall that this is possible thanks to our large sample size and the central limit theorem. To get a precise p-value, you should also perform a continuity correction, either adding or subtracting 0.5 to the total count before computing the area underneath the curve. (e.g. If we had 415 / 850 assigned to the control group, then the normal approximation would take the area to the left of  $(415 + 0.5) / 850 = 0.489$  and to the right of  $(435 − 0.5 ) / 850 = 0.511$ .)\""
   ]
  },
  {
   "cell_type": "code",
   "execution_count": 3,
   "id": "07989936",
   "metadata": {},
   "outputs": [
    {
     "name": "stdout",
     "output_type": "stream",
     "text": [
      "number of observations: 999\n"
     ]
    }
   ],
   "source": [
    "#Check of Invariant Metric - analytic approach\n",
    "#number of trials\n",
    "n_observation = df.shape[0]\n",
    "print('number of observations:', n_observation)"
   ]
  },
  {
   "cell_type": "code",
   "execution_count": 4,
   "id": "72553d5e",
   "metadata": {},
   "outputs": [
    {
     "name": "stdout",
     "output_type": "stream",
     "text": [
      "number of cases with success: 491\n"
     ]
    }
   ],
   "source": [
    "#number of successes\n",
    "n_control = df[df['condition'] == 0].shape[0] #data.groupby('condition').size()[0]\n",
    "print('number of cases with success:', n_control)"
   ]
  },
  {
   "cell_type": "markdown",
   "id": "8c8e2a00",
   "metadata": {},
   "source": [
    "Standard Deviation: Khan Academy [here](https://pt.khanacademy.org/math/statistics-probability/summarizing-quantitative-data/variance-standard-deviation-sample/a/population-and-sample-standard-deviation-review)\n",
    "    \n",
    "- in this case, we are measuring for all the **Population**, so we will divide for **n** (NOT n-1, as in Sample)\n",
    "\n",
    "It is a Standard Deviation for a **Binomial Distribution**, so the formula is [here](https://www.statisticshowto.com/probability-and-statistics/standard-deviation/)\n",
    "\n",
    "![Binomial](graphs/sdBinomial.gif)"
   ]
  },
  {
   "cell_type": "code",
   "execution_count": 5,
   "id": "8e7e73cc",
   "metadata": {},
   "outputs": [
    {
     "name": "stdout",
     "output_type": "stream",
     "text": [
      "Standard Deviation for Binomial distribution: 15.8\n"
     ]
    }
   ],
   "source": [
    "# z-score and p-value\n",
    "p = 0.5\n",
    "standard_deviation = np.sqrt(n_observation * p * (1-p))\n",
    "print('Standard Deviation for Binomial distribution: {:.1f}'.format(standard_deviation))"
   ]
  },
  {
   "cell_type": "markdown",
   "id": "6b479337",
   "metadata": {},
   "source": [
    "z Score: \n",
    "\n",
    "![z score](graphs/zScore.jfif)\n",
    "\n",
    "Description [here](https://www.simplypsychology.org/z-score.html)\n",
    "\n",
    "\"A z-score describes the position of a raw score in terms of its distance from the mean, when measured in standard deviation units. The z-score is positive if the value lies above the mean, and negative if it lies below the mean.\"\n",
    "\n",
    "\"It is also known as a standard score, because it allows comparison of scores on different kinds of variables by standardizing the distribution. A standard normal distribution (SND) is a normally shaped distribution with a mean of 0 and a standard deviation (SD) of 1.\"\n",
    "\n",
    "#### Why are z-scores important?\n",
    "\n",
    "\"It is useful to standardized the values (raw scores) of a normal distribution by converting them into z-scores because:\n",
    "\n",
    "(a) it allows researchers to calculate the probability of a score occurring within a standard normal distribution;\n",
    "\n",
    "(b) and enables us to compare two scores that are from different samples (which may have different means and standard deviations).\""
   ]
  },
  {
   "cell_type": "code",
   "execution_count": 6,
   "id": "b59c69fc",
   "metadata": {},
   "outputs": [
    {
     "name": "stdout",
     "output_type": "stream",
     "text": [
      "z-score: -0.5062\n"
     ]
    }
   ],
   "source": [
    "z_score = ((n_control + 0.5) - p * n_observation) / standard_deviation\n",
    "print('z-score: {:.4f}'.format(z_score))"
   ]
  },
  {
   "cell_type": "markdown",
   "id": "cb5f4a91",
   "metadata": {},
   "source": [
    "\"A normal **Cumulative Distribution Function (CDF)** will return the percentage of the **Normal Distribution Function** that is less than or equal to the random variable specified.\" (Asked Google)\n",
    "\n",
    "The central point is at $x=0$, and the area must be $0.5$ at this point: `stats.norm.cdf(0)`"
   ]
  },
  {
   "cell_type": "code",
   "execution_count": 7,
   "id": "d165a9a8",
   "metadata": {},
   "outputs": [
    {
     "data": {
      "text/plain": [
       "0.5"
      ]
     },
     "execution_count": 7,
     "metadata": {},
     "output_type": "execute_result"
    }
   ],
   "source": [
    "stats.norm.cdf(0)"
   ]
  },
  {
   "cell_type": "markdown",
   "id": "d11ec4b2",
   "metadata": {},
   "source": [
    "\"In **Null Hypothesis** significance testing, the **p-value** is the probability of obtaining test results at least as extreme as the results actually observed, under the assumption that the null hypothesis is **correct**\" [wiki](https://en.wikipedia.org/wiki/P-value)\n",
    "\n",
    "\"A very **small** p-value means that such an extreme observed outcome would be very unlikely under the null hypothesis\"\n",
    "\n",
    "As it is a **2-tails** experiment, so the value is multiplied by $2$:\n",
    "\n",
    "- 61.3% of **explanation** is not sufficient to **reject** the null hypothesis!"
   ]
  },
  {
   "cell_type": "code",
   "execution_count": 8,
   "id": "d1c54db3",
   "metadata": {},
   "outputs": [
    {
     "name": "stdout",
     "output_type": "stream",
     "text": [
      "analytic p-value: 0.6127\n"
     ]
    }
   ],
   "source": [
    "p_value = 2 * stats.norm.cdf(z_score)\n",
    "print('analytic p-value: {:.4f}'.format(p_value))"
   ]
  },
  {
   "cell_type": "markdown",
   "id": "8760f4a2",
   "metadata": {},
   "source": [
    "---\n",
    "\n",
    "### Simulation approach\n",
    "\n",
    "#### In Udacity text:\n",
    "\n",
    "\"If you want to take a simulation-based approach, you can simulate the number of visitors that would be assigned to each group for the number of total observations, assuming that we have an expected 50/50 split. Do this many times (200 000 repetitions should provide a good speed-variability balance in this case) and then see in how many simulated cases we get as extreme or more extreme a deviation from 50/50 that we actually observed. Don't forget that, since we have a two-sided test, an extreme case also includes values on the opposite side of 50/50. (e.g. Since simulated outcomes of .48 and lower are considered as being more extreme than an actual observation of 0.48, so too will simulated outcomes of .52 and higher.) The proportion of flagged simulation outcomes gives us a p-value on which to assess our observed proportion. We hope to see a larger p-value, insufficient evidence to reject the null hypothesis.\""
   ]
  },
  {
   "cell_type": "code",
   "execution_count": 9,
   "id": "fbf821d5",
   "metadata": {},
   "outputs": [
    {
     "name": "stdout",
     "output_type": "stream",
     "text": [
      "number of observations: 999\n"
     ]
    }
   ],
   "source": [
    "#Check of Invariant Metric - simulation approach\n",
    "n_obs = df.shape[0]\n",
    "print('number of observations:', n_obs)"
   ]
  },
  {
   "cell_type": "code",
   "execution_count": 10,
   "id": "4c901825",
   "metadata": {},
   "outputs": [
    {
     "name": "stdout",
     "output_type": "stream",
     "text": [
      "number of control: 491\n"
     ]
    }
   ],
   "source": [
    "# get number of trials and number of 'successes'\n",
    "n_control = df[df['condition'] == 0].shape[0] #df.groupby('condition').size()[0]\n",
    "print('number of control:', n_control)"
   ]
  },
  {
   "cell_type": "markdown",
   "id": "813ee10e",
   "metadata": {},
   "source": [
    "Random Binomial: `np.random.binomial(n, p, 1000)`\n",
    "    \n",
    "- result of flipping a coin $10$ times, tested $1000$ times"
   ]
  },
  {
   "cell_type": "code",
   "execution_count": 11,
   "id": "ce38c396",
   "metadata": {},
   "outputs": [],
   "source": [
    "#np.random.binomial(10, 0.5, 1000)"
   ]
  },
  {
   "cell_type": "code",
   "execution_count": 12,
   "id": "c544b9bf",
   "metadata": {},
   "outputs": [
    {
     "data": {
      "text/plain": [
       "array([498, 466, 532, ..., 515, 497, 503])"
      ]
     },
     "execution_count": 12,
     "metadata": {},
     "output_type": "execute_result"
    }
   ],
   "source": [
    "#simulate outcomes under null, compare to observed outcome\n",
    "p = 0.5\n",
    "n_trials = 200_000\n",
    "samples = np.random.binomial(n_obs, p, n_trials)\n",
    "samples"
   ]
  },
  {
   "cell_type": "markdown",
   "id": "65cf8807",
   "metadata": {},
   "source": [
    "Number of samples below $491$:"
   ]
  },
  {
   "cell_type": "code",
   "execution_count": 13,
   "id": "d16a98d4",
   "metadata": {},
   "outputs": [
    {
     "data": {
      "text/plain": [
       "61194"
      ]
     },
     "execution_count": 13,
     "metadata": {},
     "output_type": "execute_result"
    }
   ],
   "source": [
    "sum(samples <= n_control)"
   ]
  },
  {
   "cell_type": "markdown",
   "id": "6c679779",
   "metadata": {},
   "source": [
    "Number of samples above $508$:"
   ]
  },
  {
   "cell_type": "markdown",
   "id": "bf1bdde6",
   "metadata": {},
   "source": [
    "`sum(samples >= (n_obs - n_control))` $\\leftarrow$ samples that extrapolates the boundaries"
   ]
  },
  {
   "cell_type": "code",
   "execution_count": 14,
   "id": "b016063e",
   "metadata": {},
   "outputs": [
    {
     "name": "stdout",
     "output_type": "stream",
     "text": [
      "simulated p_value under 200,000 samples: 0.6121 (61.21%)\n"
     ]
    }
   ],
   "source": [
    "p_value = np.logical_or(samples <= n_control, samples >= (n_obs - n_control)).mean()\n",
    "print('simulated p_value under 200,000 samples: {:.4f} ({:.2f}%)'.format(p_value, p_value*100))"
   ]
  },
  {
   "cell_type": "markdown",
   "id": "5390c289",
   "metadata": {},
   "source": [
    "### Checking the Evaluation Metric\n",
    "\n",
    "Now, we want to know if **clicks** changes with the choice of the server with our new or old webpage.\n",
    "\n",
    "#### In Udacity text:\n",
    "\n",
    "\"After performing our checks on the invariant metric, we can move on to performing a hypothesis test on the evaluation metric: the click-through rate. In this case, we want to see that the experimental group has a significantly larger click-through rate than the control group, a one-tailed test.\n",
    "\n",
    "There's a few analytic approaches possible here, but you'll probably make use of the normal approximation again in these cases. In addition to the pooled click-through rate, you'll need a pooled standard deviation in order to compute a z-score. While there is a continuity correction possible in this case as well, it's much more conservative than the p-value that a simulation will usually imply. Computing the z-score and resulting p-value without a continuity correction should be closer to the simulation's outcomes, though slightly more optimistic about there being a statistical difference between groups.\""
   ]
  },
  {
   "cell_type": "code",
   "execution_count": 15,
   "id": "a8a6d8ec",
   "metadata": {},
   "outputs": [
    {
     "data": {
      "text/html": [
       "<div>\n",
       "<style scoped>\n",
       "    .dataframe tbody tr th:only-of-type {\n",
       "        vertical-align: middle;\n",
       "    }\n",
       "\n",
       "    .dataframe tbody tr th {\n",
       "        vertical-align: top;\n",
       "    }\n",
       "\n",
       "    .dataframe thead th {\n",
       "        text-align: right;\n",
       "    }\n",
       "</style>\n",
       "<table border=\"1\" class=\"dataframe\">\n",
       "  <thead>\n",
       "    <tr style=\"text-align: right;\">\n",
       "      <th></th>\n",
       "      <th>click</th>\n",
       "    </tr>\n",
       "    <tr>\n",
       "      <th>condition</th>\n",
       "      <th></th>\n",
       "    </tr>\n",
       "  </thead>\n",
       "  <tbody>\n",
       "    <tr>\n",
       "      <th>0</th>\n",
       "      <td>0.079430</td>\n",
       "    </tr>\n",
       "    <tr>\n",
       "      <th>1</th>\n",
       "      <td>0.112205</td>\n",
       "    </tr>\n",
       "  </tbody>\n",
       "</table>\n",
       "</div>"
      ],
      "text/plain": [
       "              click\n",
       "condition          \n",
       "0          0.079430\n",
       "1          0.112205"
      ]
     },
     "execution_count": 15,
     "metadata": {},
     "output_type": "execute_result"
    }
   ],
   "source": [
    "df.groupby('condition').mean()"
   ]
  },
  {
   "cell_type": "code",
   "execution_count": 16,
   "id": "86f67a9c",
   "metadata": {},
   "outputs": [
    {
     "name": "stdout",
     "output_type": "stream",
     "text": [
      "page 0: 7.9% page 1: 11.2% of the user clicked on \"buy\"\n"
     ]
    }
   ],
   "source": [
    "p_click = df.groupby('condition').mean()['click']\n",
    "print('page 0: {:.1f}% page 1: {:.1f}% of the user clicked on \"buy\"'.format(p_click[0]*100, p_click[1]*100))"
   ]
  },
  {
   "cell_type": "code",
   "execution_count": 17,
   "id": "2e0dcd1e",
   "metadata": {},
   "outputs": [
    {
     "name": "stdout",
     "output_type": "stream",
     "text": [
      "difference on page 1: 41.3%\n"
     ]
    }
   ],
   "source": [
    "diff = (((p_click[1] - p_click[0]) / p_click[0])*100)\n",
    "print('difference on page 1: {:.1f}%'.format(diff))"
   ]
  },
  {
   "cell_type": "markdown",
   "id": "a3cb024e",
   "metadata": {},
   "source": [
    "#### Analytic Approach"
   ]
  },
  {
   "cell_type": "code",
   "execution_count": 18,
   "id": "466d3db2",
   "metadata": {},
   "outputs": [
    {
     "name": "stdout",
     "output_type": "stream",
     "text": [
      "z-score: 1.7572\n",
      "p-value: 0.0394\n"
     ]
    }
   ],
   "source": [
    "#Evaluation metric - analytic approach\n",
    "\n",
    "# get number of trials and overall 'success' rate under null\n",
    "n_control = df.groupby('condition').size()[0]\n",
    "n_exper = df.groupby('condition').size()[1]\n",
    "p_null = df['click'].mean()\n",
    "\n",
    "# compute standard error, z-score, and p-value\n",
    "se_p = np.sqrt(p_null * (1-p_null) * (1/n_control + 1/n_exper))\n",
    "\n",
    "z = (p_click[1] - p_click[0]) / se_p\n",
    "print('z-score: {:.4f}'.format(z))\n",
    "print('p-value: {:.4f}'.format(1-stats.norm.cdf(z)))"
   ]
  },
  {
   "cell_type": "markdown",
   "id": "8d633678",
   "metadata": {},
   "source": [
    "#### Simulation Approach\n",
    "\n",
    "`np.random.binomial(n, p, size)` at numpy documentation [here](https://numpy.org/doc/stable/reference/random/generated/numpy.random.binomial.html)\n",
    "\n",
    "- n $\\rightarrow$ number of trials (e.g. 6 coin flips)\n",
    "\n",
    "- p $\\rightarrow$ probability of success (e.g. 0.5 on a fair coin)\n",
    "\n",
    "- size $\\rightarrow$ shape of the output (e.g. 1 number, 2x2 Array, 3x4x2 Array)\n",
    "\n",
    "#### in Udacity text\n",
    "\n",
    "\"The simulation approach for this metric isn't too different from the approach for the invariant metric. You'll need the overall click-through rate as the common proportion to draw simulated values from for each group. You may also want to perform more simulations since there's higher variance for this test.\""
   ]
  },
  {
   "cell_type": "code",
   "execution_count": 19,
   "id": "7c600460",
   "metadata": {},
   "outputs": [
    {
     "data": {
      "text/plain": [
       "array([[3, 3, 4, 3],\n",
       "       [3, 4, 5, 4],\n",
       "       [4, 3, 3, 2]])"
      ]
     },
     "execution_count": 19,
     "metadata": {},
     "output_type": "execute_result"
    }
   ],
   "source": [
    "n=6\n",
    "p=0.5\n",
    "size=(3, 4)\n",
    "np.random.binomial(n, p, size)"
   ]
  },
  {
   "cell_type": "code",
   "execution_count": 20,
   "id": "72b26a10",
   "metadata": {},
   "outputs": [
    {
     "name": "stdout",
     "output_type": "stream",
     "text": [
      "p-value: 0.0390\n"
     ]
    }
   ],
   "source": [
    "#Evaluation metric - analytic approach\n",
    "\n",
    "# get number of trials and overall 'success' rate under null\n",
    "n_control = df.groupby('condition').size()[0]\n",
    "n_exper = df.groupby('condition').size()[1]\n",
    "p_null = df['click'].mean()\n",
    "\n",
    "# simulate outcomes under null, compare to observed outcome\n",
    "n_trials = 200_000\n",
    "\n",
    "ctrl_clicks = np.random.binomial(n_control, p_null, n_trials)\n",
    "exp_clicks = np.random.binomial(n_exper, p_null, n_trials)\n",
    "samples = exp_clicks / n_exper - ctrl_clicks / n_control\n",
    "\n",
    "print('p-value: {:.4f}'.format((samples >= (p_click[1] - p_click[0])).mean()))"
   ]
  },
  {
   "cell_type": "markdown",
   "id": "17b9a8d5",
   "metadata": {},
   "source": [
    "---\n",
    "\n",
    "## Practical Significance\n",
    "\n",
    "You have **secondary effects** on doing some kind of promotional event:\n",
    "\n",
    "- costs of coupons\n",
    "\n",
    "- reveneue loss\n",
    "\n",
    "- effort/cost to create/maintain your new website\n",
    "\n",
    "#### In Udacity text:\n",
    "\n",
    "\"Even if an experiment result shows a statistically significant difference in an evaluation metric between control and experimental groups, that does not necessarily mean that the experiment was a success. If there are any costs associated with deploying a change, those costs might outweigh the benefits expected based on the experiment results. **Practical significance** refers to the level of effect that you need to observe in order for the experiment to be called a true success and implemented in truth. Not all experiments imply a practical significance boundary, but it's an important factor in the interpretation of outcomes where it is relevant.\n",
    "\n",
    "If you consider the confidence interval for an evaluation metric statistic against the null baseline and practical significance bound, there are a few cases that can come about.\"\n",
    "\n",
    "#### Confidence interval is fully in practical significance region\n",
    "\n",
    "- $m_0 \\rightarrow$ **null** statistic value\n",
    "\n",
    "- $d_{min} \\rightarrow$ **practical significance** bound,\n",
    "\n",
    "- the blue line $\\rightarrow$ **confidence interval** for the observed statistic. \n",
    "\n",
    "#### In Udacity text:\n",
    "\n",
    "\"We assume that we're looking for a positive change, ignoring the negative equivalent for $d_{min}$.\n",
    "\n",
    "![significance1](graphs/sig1.png)\n",
    "\n",
    "If the confidence interval for the statistic does not include the null or the practical significance level, then the experimental manipulation can be concluded to have a statistically and practically significant effect. It is clearest in this case that the manipulation should be implemented as a success.\n",
    "\n",
    "#### Confidence interval completely excludes any part of practical significance region\n",
    "\n",
    "\n",
    "![significance2](graphs/sig2.png)\n",
    "\n",
    "If the confidence interval does not include any values that would be considered practically significant, this is a clear case for us to not implement the experimental change. This includes the case where the metric is statistically significant, but whose interval does not extend past the practical significance bounds. With such a low chance of practical significance being achieved on the metric, we should be wary of implementing the change.\n",
    "\n",
    "#### Confidence interval includes points both inside and outside practical significance bounds\n",
    "\n",
    "\n",
    "![significance3](graphs/sig3.png)\n",
    "\n",
    "This leaves the trickiest cases to consider, where the confidence interval straddles the practical significance bound. In each of these cases, there is an uncertain possibility of practical significance being achieved. In an ideal world, you would be able to collect more data to reduce our uncertainty, reducing the scenario to one of the previous cases. Outside of this, you'll need to consider the risks carefully in order to make a recommendation on whether or not to follow through with a tested change. Your analysis might also reveal subsets of the population or aspects of the manipulation that do work, in order to refine further studies or experiments.\"\n",
    "\n",
    "---\n",
    "\n",
    "## Second Notebook - L5 - Experiment Size\n",
    "\n",
    "#### in Udacity text:\n",
    "\n",
    "\"We can use the knowledge of our desired practical significance boundary to plan out our experiment. By knowing how many observations we need in order to detect our desired effect to our desired level of reliability, we can see how long we would need to run our experiment and whether or not it is feasible.\"\n",
    "\n",
    "#### Question\n",
    "\n",
    "Now where we have a baseline click-through rate of **10%** and want to see a manipulation increase this baseline to **12%**. \n",
    "\n",
    "How many observations would we need in each group in order to detect this change with power  **1−𝛽=.80**  (i.e. detect the **2%** absolute increase **80%** of the time), at a Type I error rate of  **𝛼=.05** ?\""
   ]
  },
  {
   "cell_type": "markdown",
   "id": "ef4d1754",
   "metadata": {},
   "source": [
    "### By Trial & Error\n",
    "\n",
    "#### in Udacity text:\n",
    "\n",
    "\"One way we could solve this is through trial and error. Every sample size will have a level of power associated with it; testing multiple sample sizes will gradually allow us to narrow down the minimum sample size required to obtain our desired power level. This isn't a particularly efficient method, but it can provide an intuition for how experiment sizing works.\""
   ]
  },
  {
   "cell_type": "markdown",
   "id": "0f64d72e",
   "metadata": {},
   "source": [
    "function from Udacourse.py"
   ]
  },
  {
   "cell_type": "code",
   "execution_count": 21,
   "id": "69e5738d",
   "metadata": {},
   "outputs": [],
   "source": [
    "#gra_style='dark_background',\n",
    "#mstyles.use(gra_style)    \n",
    "#fig_zgen = mpyplots.figure() #creating the object\n",
    "#axis_zgen = fig_zgen.add_axes([0,0,1,1]) #creating an axis\n",
    "#axis_zgen.bar(language, summation, color=bar_colors) #generating the barplot\n",
    "#fig_zgen.autofmt_xdate() #later use autoformat for auto-rotating axis legends\n",
    "#legends, commands = fn_create_patches(bar_colors=bar_colors, verbose=verbose) #creating patches for legends\n",
    "#blue_patch = mpatches.Patch(color='b', label='web languages')\n",
    "#for command in commands:\n",
    "#    exec(command)\n",
    "#axis_zgen.set_title(txt_title, fontsize=14)\n",
    "#axis_zgen.legend(handles=eval(legends))"
   ]
  },
  {
   "cell_type": "markdown",
   "id": "fe8f8189",
   "metadata": {},
   "source": [
    "##### Percentage Point Function - PPF\n",
    "\n",
    "\"The method `norm.ppf()` takes a percentage and returns a standard deviation multiplier for what value that percentage occurs at.\" (google Search)\n",
    "\n",
    "##### Numpy Linspace Function\n",
    "\n",
    "\"Return evenly spaced numbers over a specified interval.\" [numpy documentation](https://numpy.org/doc/stable/reference/generated/numpy.linspace.html)\n",
    "\n",
    "##### Probability Distribution Function PDF\n",
    "\n",
    "\"In probability theory and statistics, a probability distribution is the mathematical function that gives the probabilities of occurrence of different possible outcomes for an experiment. It is a mathematical description of a **random phenomenon** in terms of its sample space and the probabilities of events (subsets of the sample space).\" [wikipedia](https://en.wikipedia.org/wiki/Probability_distribution)"
   ]
  },
  {
   "cell_type": "code",
   "execution_count": 22,
   "id": "f390ed7a",
   "metadata": {},
   "outputs": [],
   "source": [
    "#########1#########2#########3#########4#########5#########6#########7#########8\n",
    "def fn_plot(null_dist, \n",
    "            alt_dist,\n",
    "            p_crit,\n",
    "            verbose=False):\n",
    "    '''This function plots the distribution for Power\n",
    "    Inputs:\n",
    "      - null_dist (mandatory) - \n",
    "      - alt_dist (mandatory) -\n",
    "      - p_crit (mandatory) - \n",
    "      - verbose (optional) - if you want some verbosity in your function -\n",
    "        (Boolean, default=False)\n",
    "    Output - True, if everything goes well - this is a plot function only!\n",
    "    '''\n",
    "    if verbose:\n",
    "        print('###function plot started - works by Trial & Error')        \n",
    "    \n",
    "    #preprocessing\n",
    "    low_bound = null_dist.ppf(.01)\n",
    "    high_bound = alt_dist.ppf(.99)\n",
    "    x = np.linspace(low_bound, high_bound, 201)\n",
    "    y_null = null_dist.pdf(x)\n",
    "    y_alt = alt_dist.pdf(x)\n",
    "\n",
    "    #The plot part\n",
    "    plt.plot(x, y_null)\n",
    "    plt.plot(x, y_alt)\n",
    "    plt.vlines(p_crit, \n",
    "               0, \n",
    "               np.amax([null_dist.pdf(p_crit), alt_dist.pdf(p_crit)]),\n",
    "               linestyles = '--')\n",
    "    plt.fill_between(x, y_null, 0, where = (x >= p_crit), alpha = .5)\n",
    "    plt.fill_between(x, y_alt , 0, where = (x <= p_crit), alpha = .5)\n",
    "    plt.legend(['null hypothesis','alternative hypothesis'])\n",
    "    plt.xlabel('difference')\n",
    "    plt.ylabel('density')\n",
    "    plt.show()\n",
    "    \n",
    "#gra_style='dark_background',\n",
    "#mstyles.use(gra_style)    \n",
    "#fig_zgen = mpyplots.figure() #creating the object\n",
    "#axis_zgen = fig_zgen.add_axes([0,0,1,1]) #creating an axis\n",
    "#axis_zgen.bar(language, summation, color=bar_colors) #generating the barplot\n",
    "#fig_zgen.autofmt_xdate() #later use autoformat for auto-rotating axis legends\n",
    "#legends, commands = fn_create_patches(bar_colors=bar_colors, verbose=verbose) #creating patches for legends\n",
    "#blue_patch = mpatches.Patch(color='b', label='web languages')\n",
    "#for command in commands:\n",
    "#    exec(command)\n",
    "#axis_zgen.set_title(txt_title, fontsize=14)\n",
    "#axis_zgen.legend(handles=eval(legends))\n",
    "    \n",
    "    return True"
   ]
  },
  {
   "cell_type": "markdown",
   "id": "9ee3ac39",
   "metadata": {},
   "source": [
    "**Variance** for the difference in proportions under the null hypothesis for our two groups\n",
    "\n",
    "Remember the formulae for **Standard Deviation**:\n",
    "https://www.statisticshowto.com/probability-and-statistics/standard-deviation/)\n",
    "![Standard Deviation](graphs/StDev.png)"
   ]
  },
  {
   "cell_type": "markdown",
   "id": "40d49994",
   "metadata": {},
   "source": [
    "Actually we are using the formula for Standard Deviation of a **Population**: ([here](https://stackoverflow.com/questions/47570903/confidence-interval-for-the-difference-between-two-proportions-in-python) some intuitions about)\n",
    "\n",
    "- the base probability is given by **p_null**\n",
    "\n",
    "- the variance of the difference distribution is the sum of the variances for the individual distributions\n",
    "\n",
    "- each group is assigned n observations."
   ]
  },
  {
   "cell_type": "code",
   "execution_count": 23,
   "id": "4edaac9d",
   "metadata": {},
   "outputs": [
    {
     "data": {
      "text/plain": [
       "0.00018"
      ]
     },
     "execution_count": 23,
     "metadata": {},
     "output_type": "execute_result"
    }
   ],
   "source": [
    "p_null = 0.10\n",
    "n= 1000\n",
    "\n",
    "(p_null * (1-p_null) + p_null * (1-p_null)) / n"
   ]
  },
  {
   "cell_type": "code",
   "execution_count": 24,
   "id": "c4daa278",
   "metadata": {},
   "outputs": [
    {
     "data": {
      "text/plain": [
       "0.00018"
      ]
     },
     "execution_count": 24,
     "metadata": {},
     "output_type": "execute_result"
    }
   ],
   "source": [
    "(0.1 * 0.9 + 0.1 * 0.9) / 1000"
   ]
  },
  {
   "cell_type": "code",
   "execution_count": 25,
   "id": "dfc7802b",
   "metadata": {},
   "outputs": [],
   "source": [
    "#########1#########2#########3#########4#########5#########6#########7#########8\n",
    "def fn_power(p_null, \n",
    "             p_alt, \n",
    "             n, \n",
    "             alpha=0.05, \n",
    "             plot=False,\n",
    "             verbose=False):\n",
    "    '''This function takes an alpha rate and computes the power of detecting the \n",
    "    difference in two populations.The populations can have different proportion \n",
    "    parameters.\n",
    "    Inputs:\n",
    "      - p_null (mandatory) - rate of success (base) under the Null hypothesis\n",
    "        (numpy Float) \n",
    "      - p_alt (mandatory) -  rate of sucess (desired) must be larger than the\n",
    "        first parameter - (numpy Float)\n",
    "      - n (mandatory) - number of observations for each group - (integer)\n",
    "        alpha (optional) - rate of Type-I error (false positive-normally the\n",
    "        more dangerous) - (numpy Float - default 5%)\n",
    "      - plot (optional) - if you want to plot the distribution - (Boolean, \n",
    "        default=False)\n",
    "      - verbose (optional) - if you want some verbosity in your function -\n",
    "        (Boolean, default=False)\n",
    "    Output:\n",
    "        power - the power for detection of the desired difference under the \n",
    "        Null Hypothesis.\n",
    "    '''\n",
    "    if verbose:\n",
    "        print('###function power started - works by Trial  & Error')        \n",
    "    begin = time()\n",
    "    \n",
    "    #the idea: start with the null hypothesis. Our main target is to find \n",
    "    #Type I errors (false positive) trigger (critical value is given by\n",
    "    #Alpha parameter - normally 5%).\n",
    "    \n",
    "    #se_null → standard deviation for the difference in proportions under the\n",
    "    #null hypothesis for our two groups. The base probability is given by p_null.\n",
    "    #Remember that the variance of the difference distribution is the sum of the\n",
    "    #variances for the individual distributions, and that each group is assigned n observations.\n",
    "    se_null = np.sqrt((p_null * (1-p_null) + p_null * (1-p_null)) / n)\n",
    "\n",
    "    #null_dist →\n",
    "    null_dist = stats.norm(loc=0, scale=se_null)\n",
    "\n",
    "    #p_crit: Compute the critical value of the distribution that would cause us \n",
    "    #to reject the null hypothesis. One of the methods of the null_dist object \n",
    "    #will help you obtain this value (passing in some function of our desired \n",
    "    #error rate alpha). The power is the proportion of the distribution under \n",
    "    #the alternative hypothesis that is past that previously-obtained critical value.\n",
    "    p_crit = null_dist.ppf(1 - alpha)\n",
    "    \n",
    "    #se_alt: Now it's time to make computations in the other direction. \n",
    "    #This will be standard deviation of differences under the desired detectable \n",
    "    #difference. Note that the individual distributions will have different variances \n",
    "    #now: one with p_null probability of success, and the other with p_alt probability of success.\n",
    "    se_alt  = np.sqrt((p_null * (1-p_null) + p_alt  * (1-p_alt) ) / n)\n",
    "\n",
    "    #alt_dist: This will be a scipy norm object like above. Be careful of the \n",
    "    #\"loc\" argument in this one. The way the power function is set up, it expects \n",
    "    #p_alt to be greater than p_null, for a positive difference.\n",
    "    alt_dist = stats.norm(loc = p_alt - p_null, scale = se_alt)\n",
    "\n",
    "    #beta → Type-II error (false negative) - I fail to reject the null for some\n",
    "    #non-null states\n",
    "    beta = alt_dist.cdf(p_crit)    \n",
    "    \n",
    "    if plot:\n",
    "        fn_plot(null_dist=null_dist, \n",
    "                alt_dist=alt_dist,\n",
    "                p_crit=p_crit, \n",
    "                verbose=verbose)\n",
    "        \n",
    "    power = (1 - beta)\n",
    "    end = time()\n",
    "    if verbose:\n",
    "        print('elapsed time: {:.6f}s'.format(end-begin))\n",
    "        \n",
    "    return power"
   ]
  },
  {
   "cell_type": "code",
   "execution_count": 26,
   "id": "7153a91e",
   "metadata": {},
   "outputs": [
    {
     "name": "stdout",
     "output_type": "stream",
     "text": [
      "###function power started - works by Trial  & Error\n",
      "###function plot started - works by Trial & Error\n"
     ]
    },
    {
     "data": {
      "image/png": "[encoded data removed]",
      "text/plain": [
       "<Figure size 432x288 with 1 Axes>"
      ]
     },
     "metadata": {
      "needs_background": "light"
     },
     "output_type": "display_data"
    },
    {
     "name": "stdout",
     "output_type": "stream",
     "text": [
      "elapsed time: 0.629611s\n"
     ]
    },
    {
     "data": {
      "text/plain": [
       "0.44122379261151545"
      ]
     },
     "execution_count": 26,
     "metadata": {},
     "output_type": "execute_result"
    }
   ],
   "source": [
    "fn_power(p_null=0.10, \n",
    "         p_alt=0.12, \n",
    "         n=1000, \n",
    "         plot=True,\n",
    "         verbose=True)"
   ]
  },
  {
   "cell_type": "code",
   "execution_count": null,
   "id": "e3f043c8",
   "metadata": {},
   "outputs": [],
   "source": []
  },
  {
   "cell_type": "markdown",
   "id": "bd764d73",
   "metadata": {},
   "source": [
    "### In Udacity text\n",
    "\n",
    "\"Fill in the **power()** function below following these steps:\n",
    "\n",
    "- Under the null hypothesis, we should have a critical value for which the Type I error rate is at our desired alpha level.\n",
    "\n",
    "- **se_null**: Compute the standard deviation for the difference in proportions under the null hypothesis for our two groups. The base probability is given by p_null. Remember that the variance of the difference distribution is the sum of the variances for the individual distributions, and that each group is assigned n observations.\n",
    "\n",
    "- **null_dist**: To assist in re-use, this should be a scipy norm object. Specify the center and standard deviation of the normal distribution using the \"loc\" and \"scale\" arguments, respectively.\n",
    "\n",
    "- **p_crit**: Compute the critical value of the distribution that would cause us to reject the null hypothesis. One of the methods of the null_dist object will help you obtain this value (passing in some function of our desired error rate alpha). The power is the proportion of the distribution under the alternative hypothesis that is past that previously-obtained critical value.\n",
    "\n",
    "- **se_alt**: Now it's time to make computations in the other direction. This will be standard deviation of differences under the desired detectable difference. Note that the individual distributions will have different variances now: one with p_null probability of success, and the other with p_alt probability of success.\n",
    "\n",
    "- **alt_dist**: This will be a scipy norm object like above. Be careful of the \"loc\" argument in this one. The way the power function is set up, it expects p_alt to be greater than p_null, for a positive difference.\n",
    "\n",
    "- **beta**: Beta is the probability of a Type-II error, or the probability of failing to reject the null for a particular non-null state. That means you should make use of alt_dist and p_crit here! "
   ]
  },
  {
   "cell_type": "code",
   "execution_count": 27,
   "id": "5d5a9047",
   "metadata": {},
   "outputs": [
    {
     "name": "stdout",
     "output_type": "stream",
     "text": [
      "You should see this message if all the assertions passed!\n"
     ]
    }
   ],
   "source": [
    "assert np.isclose(fn_power(.1, .12, 1000, plot = False), 0.4412, atol = 1e-4)\n",
    "assert np.isclose(fn_power(.1, .12, 3000, plot = False), 0.8157, atol = 1e-4)\n",
    "assert np.isclose(fn_power(.1, .12, 5000, plot = False), 0.9474, atol = 1e-4)\n",
    "print('You should see this message if all the assertions passed!')"
   ]
  },
  {
   "cell_type": "markdown",
   "id": "67c433f2",
   "metadata": {},
   "source": [
    "### By Analytic Solution\n",
    "\n",
    "#### Udacity text:\n",
    "\n",
    "\"Now that we've got some intuition for power by using trial and error, we can now approach a closed-form solution for computing a minimum experiment size. The key point to notice is that, for an $\\alpha$ and $\\beta$ both < .5, the critical value for determining statistical significance will fall between our null click-through rate and our alternative, desired click-through rate. So, the difference between $p_0$ and $p_1$ can be subdivided into the distance from $p_0$ to the critical value $p^*$ and the distance from $p^*$ to $p_1$.\n",
    "\n",
    "![fig 1](graphs/ExpSize_Power.png)\n",
    "\n",
    "Those subdivisions can be expressed in terms of the standard error and the z-scores:\n",
    "\n",
    "$$p^* - p_0 = z_{1-\\alpha} SE_{0},$$\n",
    "$$p_1 - p^* = -z_{\\beta} SE_{1};$$\n",
    "\n",
    "$$p_1 - p_0 = z_{1-\\alpha} SE_{0} - z_{\\beta} SE_{1}$$\n",
    "\n",
    "In turn, the standard errors can be expressed in terms of the standard deviations of the distributions, divided by the square root of the number of samples in each group:\n",
    "\n",
    "$$SE_{0} = \\frac{s_{0}}{\\sqrt{n}},$$\n",
    "$$SE_{1} = \\frac{s_{1}}{\\sqrt{n}}$$\n",
    "\n",
    "Substituting these values in and solving for $n$ will give us a formula for computing a minimum sample size to detect a specified difference, at the desired level of power:\n",
    "\n",
    "$$n = \\lceil \\big(\\frac{z_{\\alpha} s_{0} - z_{\\beta} s_{1}}{p_1 - p_0}\\big)^2 \\rceil$$\n",
    "\n",
    "where $\\lceil ... \\rceil$ represents the ceiling function, rounding up decimal values to the next-higher integer. Implement the necessary variables in the function below, and test them with the cells that follow.\""
   ]
  },
  {
   "cell_type": "code",
   "execution_count": 35,
   "id": "2da80636",
   "metadata": {},
   "outputs": [],
   "source": [
    "#########1#########2#########3#########4#########5#########6#########7#########8\n",
    "def fn_experiment_size(p_null, \n",
    "                       p_alt, \n",
    "                       alpha=0.05, \n",
    "                       beta=0.20,\n",
    "                       verbose=False):\n",
    "    '''This function takes a size of effect and returns the minimum number of \n",
    "    samples needed to achieve the desired power\n",
    "    Inputs:\n",
    "      - p_null (mandatory) - null hypothesis success rate (base) - (numpy Float)\n",
    "      - p_alt (mandatory) - success rate (desired) - what we want to detect -\n",
    "        (numpy Float)\n",
    "      - alpha (optional) - Type-I (false positive) rate of error - (numpy Float -\n",
    "        default = 5%)\n",
    "      - beta (optional) - Type-II (false negative) rate of error - (numpy Fload -\n",
    "        default = 20%)\n",
    "      - verbose (optional) - if you want some verbosity in your function -\n",
    "        (Boolean, default=False)\n",
    "    Output:\n",
    "      - n - required number of samples for each group, in order to obtain the \n",
    "        desired power\n",
    "    '''\n",
    "    if verbose:\n",
    "        print('###function experiment size started - Analytic solution')        \n",
    "    begin = time()\n",
    "\n",
    "    #takes z-scores and st dev -> 1 observation per group!\n",
    "    z_null = stats.norm.ppf(1 - alpha)\n",
    "    z_alt  = stats.norm.ppf(beta)\n",
    "    sd_null = np.sqrt(p_null * (1-p_null) + p_null * (1-p_null))\n",
    "    sd_alt  = np.sqrt(p_null * (1-p_null) + p_alt  * (1-p_alt) )\n",
    "    \n",
    "    #calculate the minimum sample size\n",
    "    p_diff = p_alt - p_null\n",
    "    n = ((z_null*sd_null - z_alt*sd_alt) / p_diff) ** 2\n",
    "    \n",
    "    n_max = np.ceil(n)\n",
    "    \n",
    "    end = time()\n",
    "    if verbose:\n",
    "        print('elapsed time: {:.5f}s'.format(end-begin))\n",
    "\n",
    "    return n_max"
   ]
  },
  {
   "cell_type": "code",
   "execution_count": 36,
   "id": "d6ab2829",
   "metadata": {},
   "outputs": [
    {
     "name": "stdout",
     "output_type": "stream",
     "text": [
      "###function experiment size started - Analytic solution\n",
      "elapsed time: 0.00300s\n"
     ]
    },
    {
     "data": {
      "text/plain": [
       "2863.0"
      ]
     },
     "execution_count": 36,
     "metadata": {},
     "output_type": "execute_result"
    }
   ],
   "source": [
    "fn_experiment_size(p_null=0.1, \n",
    "                   p_alt=0.12,\n",
    "                   verbose=True)"
   ]
  },
  {
   "cell_type": "code",
   "execution_count": 37,
   "id": "bd78072d",
   "metadata": {},
   "outputs": [
    {
     "name": "stdout",
     "output_type": "stream",
     "text": [
      "You should see this message if the assertion passed!\n"
     ]
    }
   ],
   "source": [
    "assert np.isclose(fn_experiment_size(.1, .12), 2863)\n",
    "print('You should see this message if the assertion passed!')"
   ]
  },
  {
   "cell_type": "markdown",
   "id": "fed75ea0",
   "metadata": {},
   "source": [
    "### Notes on Interpretation\n",
    "\n",
    "#### Udacity text\n",
    "\n",
    "\"The example explored above is a one-tailed test, with the alternative value greater than the null. The power computations performed in the first part will _not_ work if the alternative proportion is greater than the null, e.g. detecting a proportion parameter of 0.88 against a null of 0.9. You might want to try to rewrite the code to handle that case! The same issue should not show up for the second approach, where we directly compute the sample size.\n",
    "\n",
    "If you find that you need to do a two-tailed test, you should pay attention to two main things. First of all, the \"alpha\" parameter needs to account for the fact that the rejection region is divided into two areas. Secondly, you should perform the computation based on the worst-case scenario, the alternative case with the highest variability. Since, for the binomial, variance is highest when $p = .5$, decreasing as $p$ approaches 0 or 1, you should choose the alternative value that is closest to .5 as your reference when computing the necessary sample size.\n",
    "\n",
    "Note as well that the above methods only perform sizing for _statistical significance_, and do not take into account _practical significance_. One thing that should be realized is that if the true size of the experimental effect is the same as the desired practical significance level, then it's a coin flip whether the mean will be above or below the practical significance bound. This also doesn't even consider how a confidence interval might interact with that bound. In a way, experiment sizing is a way of checking about whether or not you'll be able to get what you _want_ from running an experiment, rather than checking if you'll get what you _need_.\""
   ]
  },
  {
   "cell_type": "markdown",
   "id": "3f13b02e",
   "metadata": {},
   "source": [
    "### Alternative Approaches\n",
    "\n",
    "#### Udacity text\n",
    "\n",
    "\"There are also tools and Python packages that can also help with sample sizing decisions, so you don't need to solve for every case on your own. The sample size calculator [here](http://www.evanmiller.org/ab-testing/sample-size.html) is applicable for proportions, and provides the same results as the methods explored above. (Note that the calculator assumes a two-tailed test, however.) Python package \"statsmodels\" has a number of functions in its [`power` module](https://www.statsmodels.org/stable/stats.html#power-and-sample-size-calculations) that perform power and sample size calculations. Unlike previously shown methods, differences between null and alternative are parameterized as an effect size (standardized difference between group means divided by the standard deviation). Thus, we can use these functions for more than just tests of proportions. If we want to do the same tests as before, the [`proportion_effectsize`](http://www.statsmodels.org/stable/generated/statsmodels.stats.proportion.proportion_effectsize.html) function computes [Cohen's h](https://en.wikipedia.org/wiki/Cohen%27s_h) as a measure of effect size. As a result, the output of the statsmodel functions will be different from the result expected above. This shouldn't be a major concern since in most cases, you're not going to be stopping based on an exact number of observations. You'll just use the value to make general design decisions.\""
   ]
  },
  {
   "cell_type": "code",
   "execution_count": 38,
   "id": "067c2f01",
   "metadata": {},
   "outputs": [
    {
     "data": {
      "text/plain": [
       "3020.515856462414"
      ]
     },
     "execution_count": 38,
     "metadata": {},
     "output_type": "execute_result"
    }
   ],
   "source": [
    "# leave out the \"nobs\" parameter to solve for it\n",
    "NormalIndPower().solve_power(effect_size=proportion_effectsize(.12, .1), \n",
    "                             alpha=0.05, \n",
    "                             power=0.8,\n",
    "                             alternative='larger')"
   ]
  },
  {
   "cell_type": "markdown",
   "id": "9041f204",
   "metadata": {},
   "source": [
    "---\n",
    "\n",
    "## Using Dummy Tests\n",
    "\n",
    "Design experiments that deals with **changes** and **manipulations**\n",
    "\n",
    "Is also known as an **AA-Test** $\\right$ you create an experiment that compares a group with a similar group, by the same conditions\n",
    "\n",
    "It seems a bit strange, but making it you can:\n",
    "\n",
    "- assert that eveything is OK in your environment **before** doing a real test\n",
    "\n",
    "  - as your distribution token is working fairly\n",
    "  \n",
    "  - it the paths are OK\n",
    "  \n",
    "- know better the steps that your custommer will follow during the test\n",
    "\n",
    "- know some data, as variability\n",
    "\n",
    "- you will be able to predict how long a experiment will need to run in order to collect your needed data\n",
    "\n",
    "There is some problems too:\n",
    "\n",
    "- takes time, that you could use in a **real test**\n",
    "\n",
    "#### In Udacity text:\n",
    "\n",
    "\"When it comes to designing an experiment, it might be useful to run a dummy test as a predecessor to or as part of that process. In a dummy test, you will implement the same steps that you would in an actual experiment to assign the experimental units into groups. However, the experimental manipulation won't actually be implemented, and the groups will be treated equivalently.\n",
    "\n",
    "There are multiple reasons to run a dummy test. First, a dummy test can expose if there are any errors in the randomization or assignment procedures. A short dummy test can be worth the investment if an invariant metric is found to have a statistically significant difference, or if some other systematic bias is identified, because it can help avoid larger problems down the line. A second reason to run a dummy test is to collect data on metrics' behaviors. If historic data is not enough to predict the outcome of recorded metrics or allow for experiment duration to be computed, then a dummy test can be useful for getting baselines.\n",
    "\n",
    "Of course, performing a dummy test requires an investment of resources, the most important of which is time. If time is of the essence, then you may need to just go ahead with the experiment, keeping an eye on invariant metrics for any trouble. An alternative approach is to perform a hybrid test. In the A/B testing paradigm, this can take the form of an A/A/B test. That is, we split the data into three groups: two control and one experimental. A comparison between control groups can be used to learn about null-environment properties before making inferences on the effect of the experimental manipulation.\"\n",
    "\n",
    "---\n",
    "\n",
    "## Third Notebook - L8 - Non-Parametric Tests\n",
    "\n",
    "#### In Udacity text:\n",
    "\n",
    "\"Up until now, you've been using standard hypothesis tests on means of normal distributions to design and analyze experiments. However, it's possible that you will encounter scenarios where you can't rely on only standard tests. This might be due to uncertainty about the true variability of a metric's distribution, a lack of data to assume normality, or wanting to do inference on a statistic that lacks a standard test. It's useful to know about some **non-parametric tests** not just as a workaround for cases like this, but also as a second check on your experimental results. The main benefit of a non-parametric test is that they don't rely on many assumptions of the underlying population, and so can be used in a wider range of circumstances compared to standard tests. In this notebook, you'll cover two non-parametric approaches that use resampling of the data to make inferences about distributions and differences.\""
   ]
  },
  {
   "cell_type": "markdown",
   "id": "2b70a4a8",
   "metadata": {},
   "source": [
    "## Bootstrapping\n",
    "\n",
    "#### In Udacity text:\n",
    "\n",
    "\"Bootstrapping is used to estimate sampling distributions by using the actually collected data to generate new samples that could have been hypothetically collected. In a standard bootstrap, a bootstrapped sample means drawing points from the original data _with replacement_ until we get as many points as there were in the original data. Essentially, we're treating the original data as the population: without making assumptions about the original population distribution, using the original data as a model of the population is the best that we can do.\n",
    "\n",
    "Taking a lot of bootstrapped samples allows us to estimate the sampling distribution for various statistics on our original data. For example, let's say that we wanted to create a 95% confidence interval for the 90th percentile from a dataset of 5000 data points. (Perhaps we're looking at website load times and want to reduce the worst cases.) Bootstrapping makes this easy to estimate. First of all, we take a bootstrap sample (i.e. draw 5000 points with replacement from the original data) and record the 90th percentile and repeat this a large number of times, let's say 100 000. From this bunch of bootstrapped 90th percentile estimates, we form our confidence interval by finding the values that capture the central 95% of the estimates (cutting off 2.5% on each tail). Implement this operation in the cells below, using the following steps:\n",
    "\n",
    "- Initialize some useful variables by storing the number of data points in `n_points` and setting up an empty list for the bootstrapped quantile values in `sample_qs`.\n",
    "\n",
    "- Create a loop for each trial where:\n",
    "  - First generate a bootstrap sample by sampling from our data with replacement. ([`random.choice`](https://docs.scipy.org/doc/numpy/reference/generated/numpy.random.choice.html) will be useful here.)\n",
    "  \n",
    "  - Then, compute the `q`th quantile of the sample and add it to the `sample_qs` list. If you're using numpy v0.15 or later, you can use the [`quantile`](https://docs.scipy.org/doc/numpy/reference/generated/numpy.quantile.html) function to get the quantile directly with `q`; on v0.14 or earlier, you'll need to put `q` in terms of a percentile and use [`percentile`](https://docs.scipy.org/doc/numpy/reference/generated/numpy.percentile.html) instead.\n",
    "  \n",
    "- After gathering the bootstrapped quantiles, find the limits that capture the central `c` proportion of quantiles to form the estimated confidence interval.\""
   ]
  },
  {
   "cell_type": "code",
   "execution_count": 39,
   "id": "e6b1149d",
   "metadata": {},
   "outputs": [],
   "source": [
    "#########1#########2#########3#########4#########5#########6#########7#########8\n",
    "def fn_quantile_ci(data, \n",
    "                   q, \n",
    "                   c=0.95, \n",
    "                   n_trials=1000,\n",
    "                   verbose=False):\n",
    "    '''This function takes a quartile for a data and returns a confidence \n",
    "    interval, using Bootstrap method.\n",
    "    Inputs:\n",
    "      - data (mandatory) - a series of numpy Float data to be processed - it\n",
    "        can be a Pandas Series - (numpy Array)\n",
    "      - q: quantile to be estimated, must be between 0 and 1\n",
    "      - c: confidence interval width\n",
    "      - n_trials (optional) - the number of samples that bootstrap will perform\n",
    "        (default=1000)\n",
    "      - verbose (optional) - if you want some verbosity in your function -\n",
    "        (Boolean, default=False)\n",
    "    Output:\n",
    "      - ci: upper an lower bound for the confidence interval (Tuple of numpy Float)\n",
    "    '''\n",
    "    if verbose:\n",
    "        print(\"###function quantile ci started - Bootstrapping method\")        \n",
    "    begin=time()\n",
    "\n",
    "    #sample quantiles for bootstrap\n",
    "    n_points = data.shape[0]\n",
    "    sample_qs = []\n",
    "    \n",
    "    #loop for each bootstrap element\n",
    "    for _ in range(n_trials):\n",
    "        #random sample for the data (with replacement)\n",
    "        sample = np.random.choice(data, n_points, replace = True)\n",
    "        \n",
    "        #desired quantile\n",
    "        sample_q = np.percentile(sample, 100 * q)\n",
    "        \n",
    "        #append to the list of sampled quantiles\n",
    "        sample_qs.append(sample_q)\n",
    "        \n",
    "    #confidence interval bonds\n",
    "    lower_limit = np.percentile(sample_qs, (1 - c)/2 * 100)\n",
    "    upper_limit = np.percentile(sample_qs, (1 + c)/2 * 100)\n",
    "    \n",
    "    tuple = (lower_limit, upper_limit)\n",
    "    \n",
    "    end = time()\n",
    "    if verbose:\n",
    "        print('elapsed time: {:.6f}s'.format(end-begin))\n",
    "\n",
    "    return (lower_limit, upper_limit)"
   ]
  },
  {
   "cell_type": "code",
   "execution_count": 40,
   "id": "42227b3c",
   "metadata": {},
   "outputs": [
    {
     "data": {
      "text/html": [
       "<div>\n",
       "<style scoped>\n",
       "    .dataframe tbody tr th:only-of-type {\n",
       "        vertical-align: middle;\n",
       "    }\n",
       "\n",
       "    .dataframe tbody tr th {\n",
       "        vertical-align: top;\n",
       "    }\n",
       "\n",
       "    .dataframe thead th {\n",
       "        text-align: right;\n",
       "    }\n",
       "</style>\n",
       "<table border=\"1\" class=\"dataframe\">\n",
       "  <thead>\n",
       "    <tr style=\"text-align: right;\">\n",
       "      <th></th>\n",
       "      <th>time</th>\n",
       "    </tr>\n",
       "  </thead>\n",
       "  <tbody>\n",
       "    <tr>\n",
       "      <th>0</th>\n",
       "      <td>8152</td>\n",
       "    </tr>\n",
       "    <tr>\n",
       "      <th>1</th>\n",
       "      <td>2082</td>\n",
       "    </tr>\n",
       "    <tr>\n",
       "      <th>2</th>\n",
       "      <td>3049</td>\n",
       "    </tr>\n",
       "    <tr>\n",
       "      <th>3</th>\n",
       "      <td>3317</td>\n",
       "    </tr>\n",
       "    <tr>\n",
       "      <th>4</th>\n",
       "      <td>813</td>\n",
       "    </tr>\n",
       "  </tbody>\n",
       "</table>\n",
       "</div>"
      ],
      "text/plain": [
       "   time\n",
       "0  8152\n",
       "1  2082\n",
       "2  3049\n",
       "3  3317\n",
       "4   813"
      ]
     },
     "execution_count": 40,
     "metadata": {},
     "output_type": "execute_result"
    }
   ],
   "source": [
    "data = pd.read_csv('data/bootstrapping_data.csv')\n",
    "data.head(5)"
   ]
  },
  {
   "cell_type": "code",
   "execution_count": 41,
   "id": "03555997",
   "metadata": {},
   "outputs": [
    {
     "data": {
      "image/png": "[encoded data removed]",
      "text/plain": [
       "<Figure size 432x288 with 1 Axes>"
      ]
     },
     "metadata": {
      "needs_background": "light"
     },
     "output_type": "display_data"
    }
   ],
   "source": [
    "# data visualization\n",
    "plt.hist(data['time'], bins = np.arange(0, \n",
    "                                        data['time'].max()+400, \n",
    "                                        400));"
   ]
  },
  {
   "cell_type": "code",
   "execution_count": 42,
   "id": "1cda7f9e",
   "metadata": {},
   "outputs": [
    {
     "name": "stdout",
     "output_type": "stream",
     "text": [
      "(5495.292500000001, 5833.0025)\n"
     ]
    }
   ],
   "source": [
    "lims = fn_quantile_ci(data=data['time'], \n",
    "                      q=0.9)\n",
    "print(lims)"
   ]
  },
  {
   "cell_type": "markdown",
   "id": "c173687f",
   "metadata": {},
   "source": [
    "### Bootstrapping Notes\n",
    "\n",
    "#### In Udacity notes\n",
    "\n",
    "\"Confidence intervals coming from the bootstrap procedure will be optimistic compared to the true state of the world. This is because there will be things that we don't know about the real world that we can't account for, due to not having a parametric model of the world's state. Consider the extreme case of trying to understand the distribution of the maximum value: our confidence interval would never be able to include any value greater than the largest observed value and it makes no sense to have any lower bound below the maximum observation. Intuitively, however, there's a pretty clear possibility for there to be unobserved values that are larger than the one we've observed, especially for skewed data like shown in the example.\n",
    "\n",
    "This doesn't override the bootstrap method's advantages, however. The bootstrap procedure is fairly simple and straightforward. Since you don't make assumptions about the distribution of data, it can be applicable for any case you encounter. The results should also be fairly comparable to standard tests. But it does take computational effort, and its output does depend on the data put in. For reference, for the 95% CI on the 90th percentile example explored above, the inferred interval would only capture about 83% of 90th percentiles from the original generating distribution. But a more intricate procedure using a binomial assumption to index on the observed data only does about one percentage point better (84%). And both of these depend on the specific data generated: a different set of 5000 points will produce different intervals, with different accuracies.\"\n",
    "\n",
    "Binomial solution for percentile CIs reference: [1](https://www-users.york.ac.uk/~mb55/intro/cicent.htm), [2](https://stats.stackexchange.com/questions/99829/how-to-obtain-a-confidence-interval-for-a-percentile)"
   ]
  },
  {
   "cell_type": "markdown",
   "id": "cf81d568",
   "metadata": {},
   "source": [
    "### Permutation Tests\n",
    "\n",
    "#### In Udacity notes:\n",
    "\n",
    "\"The permutation test is a resampling-type test used to compare the values on an outcome variable between two or more groups. In the case of the permutation test, resampling is done on the group labels. The idea here is that, under the null hypothesis, the outcome distribution should be the same for all groups, whether control or experimental. Thus, we can emulate the null by taking all of the data values as a single large group. Applying labels randomly to the data points (while maintaining the original group membership ratios) gives us one simulated outcome from the null.\n",
    "\n",
    "The rest follows similar to the sampling approach to a standard hypothesis test, except that we haven't specified a reference distribution to sample from – we're sampling directly from the data we've collected. After applying the labels randomly to all the data and recording the outcome statistic many times, we compare our actual, observed statistic against the simulated statistics. A p-value is obtained by seeing how many simulated statistic values are as or more extreme as the one actually observed, and a conclusion is then drawn.\"\n",
    "\n",
    "Try implementing a permutation test in the cells below to test if the 90th percentile of times is staistically significantly smaller for the experimental group, as compared to the control group:\n",
    "\n",
    "#### Task\n",
    "\n",
    "- Initialize an empty list to store the difference in sample quantiles as `sample_diffs`.\n",
    "- Create a loop for each trial where:\n",
    "  - First generate a permutation sample by randomly shuffling the data point labels. ([`random.permutation`](https://docs.scipy.org/doc/numpy/reference/generated/numpy.random.permutation.html) will be useful here.)\n",
    "  - Then, compute the `q`th quantile of the data points that have been assigned to each group based on the permuted labels. Append the difference in quantiles to the `sample_diffs` list.\n",
    "- After gathering the quantile differences for permuted samples, compute the observed difference for the actual data. Then, compute a p-value from the number of permuted sample differences that are less than or greater than the observed difference, depending on the desired alternative hypothesis."
   ]
  },
  {
   "cell_type": "code",
   "execution_count": 43,
   "id": "263828f4",
   "metadata": {},
   "outputs": [],
   "source": [
    "#########1#########2#########3#########4#########5#########6#########7#########8\n",
    "def fn_qnt_permutation_test(x, \n",
    "                            y, \n",
    "                            q, \n",
    "                            alternative='less',\n",
    "                            n_trials=10_000,\n",
    "                            verbose=False):\n",
    "    '''this function takes a vector of independent feature, another of dependent\n",
    "    feature and calculates a confidence interval for a quantile of a dataset.\n",
    "    It uses a Bootstrap method.\n",
    "    Inpus:\n",
    "      - x (mandatory) - a vector containing zeroes and 1 values, for the \n",
    "        independent (to be grouped) feature - (Boolean)\n",
    "      - y (mandatory) - a vector containing zeroes and 1 values, for the \n",
    "        dependent (output) feature\n",
    "      - q (mandatory) - a verctor containing zeroes and 1 valures for the output\n",
    "        quantile\n",
    "      - alternative (optional) - please inform the type of test to be performed\n",
    "        (possible: 'less' and 'greater') - (default='less')\n",
    "      - n_trials (optional) number of permutation trials to perform  \n",
    "      - verbose (optional) - if you want some verbosity in your function -\n",
    "        (Boolean, default=False)\n",
    "    Output:\n",
    "      - p - the estimated p-value of the test (numpy Float)\n",
    "    '''\n",
    "    if verbose:\n",
    "        print(\"###function quantile permutation test - Bootstrapping method\")        \n",
    "    begin=time()\n",
    "    \n",
    "    #initialize list for bootstrapped sample quantiles\n",
    "    sample_diffs = []\n",
    "    \n",
    "    #loop on trials\n",
    "    for _ in range(n_trials):\n",
    "        #permute the grouping labels\n",
    "        labels = np.random.permutation(y)\n",
    "        \n",
    "        #difference in quantiles\n",
    "        cond_q = np.percentile(x[labels == 0], 100 * q)\n",
    "        exp_q  = np.percentile(x[labels == 1], 100 * q)\n",
    "        \n",
    "        #add to the list of sampled differences\n",
    "        sample_diffs.append(exp_q - cond_q)\n",
    "    \n",
    "    #observed statistic for the difference\n",
    "    cond_q = np.percentile(x[y == 0], 100 * q)\n",
    "    exp_q  = np.percentile(x[y == 1], 100 * q)\n",
    "    obs_diff = exp_q - cond_q\n",
    "    \n",
    "    #p-value for the result\n",
    "    if alternative == 'less':\n",
    "        hits = (sample_diffs <= obs_diff).sum()\n",
    "    elif alternative == 'greater':\n",
    "        hits = (sample_diffs >= obs_diff).sum()\n",
    "    \n",
    "    p = hits / n_trials\n",
    "    \n",
    "    end = time()\n",
    "    if verbose:\n",
    "        print('elapsed time: {:.6f}s'.format(end-begin))\n",
    "    \n",
    "    return p"
   ]
  },
  {
   "cell_type": "code",
   "execution_count": 44,
   "id": "1a1b4ea9",
   "metadata": {},
   "outputs": [
    {
     "data": {
      "text/html": [
       "<div>\n",
       "<style scoped>\n",
       "    .dataframe tbody tr th:only-of-type {\n",
       "        vertical-align: middle;\n",
       "    }\n",
       "\n",
       "    .dataframe tbody tr th {\n",
       "        vertical-align: top;\n",
       "    }\n",
       "\n",
       "    .dataframe thead th {\n",
       "        text-align: right;\n",
       "    }\n",
       "</style>\n",
       "<table border=\"1\" class=\"dataframe\">\n",
       "  <thead>\n",
       "    <tr style=\"text-align: right;\">\n",
       "      <th></th>\n",
       "      <th>condition</th>\n",
       "      <th>time</th>\n",
       "    </tr>\n",
       "  </thead>\n",
       "  <tbody>\n",
       "    <tr>\n",
       "      <th>0</th>\n",
       "      <td>0</td>\n",
       "      <td>5940</td>\n",
       "    </tr>\n",
       "    <tr>\n",
       "      <th>1</th>\n",
       "      <td>0</td>\n",
       "      <td>666</td>\n",
       "    </tr>\n",
       "    <tr>\n",
       "      <th>2</th>\n",
       "      <td>1</td>\n",
       "      <td>571</td>\n",
       "    </tr>\n",
       "    <tr>\n",
       "      <th>3</th>\n",
       "      <td>1</td>\n",
       "      <td>779</td>\n",
       "    </tr>\n",
       "    <tr>\n",
       "      <th>4</th>\n",
       "      <td>0</td>\n",
       "      <td>1928</td>\n",
       "    </tr>\n",
       "  </tbody>\n",
       "</table>\n",
       "</div>"
      ],
      "text/plain": [
       "   condition  time\n",
       "0          0  5940\n",
       "1          0   666\n",
       "2          1   571\n",
       "3          1   779\n",
       "4          0  1928"
      ]
     },
     "execution_count": 44,
     "metadata": {},
     "output_type": "execute_result"
    }
   ],
   "source": [
    "data = pd.read_csv('data/permutation_data.csv')\n",
    "data.head(5)"
   ]
  },
  {
   "cell_type": "code",
   "execution_count": 45,
   "id": "a1719723",
   "metadata": {},
   "outputs": [
    {
     "data": {
      "image/png": "[encoded data removed]",
      "text/plain": [
       "<Figure size 432x288 with 1 Axes>"
      ]
     },
     "metadata": {
      "needs_background": "light"
     },
     "output_type": "display_data"
    }
   ],
   "source": [
    "# data visualization\n",
    "bin_borders = np.arange(0, data['time'].max()+400, 400)\n",
    "plt.hist(data[data['condition'] == 0]['time'], alpha = 0.5, bins = bin_borders)\n",
    "plt.hist(data[data['condition'] == 1]['time'], alpha = 0.5, bins = bin_borders)\n",
    "plt.legend(labels = ['control', 'experiment']);"
   ]
  },
  {
   "cell_type": "code",
   "execution_count": 46,
   "id": "f641998d",
   "metadata": {},
   "outputs": [
    {
     "name": "stdout",
     "output_type": "stream",
     "text": [
      "5809.2 5492.2\n"
     ]
    }
   ],
   "source": [
    "# Just how different are the two distributions' 90th percentiles?\n",
    "print(np.percentile(data[data['condition'] == 0]['time'], 90),\n",
    "      np.percentile(data[data['condition'] == 1]['time'], 90))"
   ]
  },
  {
   "cell_type": "code",
   "execution_count": 47,
   "id": "6d0ea7cf",
   "metadata": {},
   "outputs": [
    {
     "name": "stdout",
     "output_type": "stream",
     "text": [
      "###function quantile permutation test - Bootstrapping method\n",
      "elapsed time: 43.793012s\n"
     ]
    },
    {
     "data": {
      "text/plain": [
       "0.0347"
      ]
     },
     "execution_count": 47,
     "metadata": {},
     "output_type": "execute_result"
    }
   ],
   "source": [
    "fn_qnt_permutation_test(x=data['time'], \n",
    "                        y=data['condition'], \n",
    "                        q=0.9,\n",
    "                        alternative='less',\n",
    "                        verbose=True)"
   ]
  },
  {
   "cell_type": "markdown",
   "id": "e871cbbe",
   "metadata": {},
   "source": [
    "---\n",
    "\n",
    "## Forth Notebook - L 10 - More Non-Parametric Tests\n",
    "\n",
    "#### In Udacity notes:\n",
    "\n",
    "\"Up until now, you've been using standard hypothesis tests on means of normal distributions to design and analyze experiments. However, it's possible that you might encounter scenarios where you can't rely on only standard tests. This might be due to uncertainty about the true variability of a metric's distribution, a lack of data to assume normality, or wanting to do inference on a statistic that lacks a standard test. It's useful to know about some **non-parametric tests** not just as a workaround for cases like this, but also as a second check on your experimental results.\""
   ]
  },
  {
   "cell_type": "markdown",
   "id": "8b5ef668",
   "metadata": {},
   "source": [
    "## Rank-Sum Test (Mann-Whitney)\n",
    "\n",
    "#### In Udacity notes:\n",
    "\n",
    "\"The rank-sum test is fairly different from the two previous approaches. There's no resamplng involved; the test is performed only on the data present. The rank-sum test, also known as the Mann-Whitney U test, is not a test of any particular statistic, like the mean or median. Instead, it's a test of distributions: let's say we draw one value at random from the populations behind each group. The null hypothesis says that there's an equal chance that the larger value is from the first group as the second group; the alternative hypothesis says that there's an unequal chance, which can be specified as one- or two-tailed.\n",
    "\n",
    "In order to test this hypothesis, we should look at the data we've collected and see in how many cases values from one group win compared to values in the second. That is, for each data point in the first group, we count how many values in the second group that are smaller than it. (If both values are equal, we count that as a tie, worth +0.5 to the tally.) This number of wins for the first group gives us a value $U$.\n",
    "\n",
    "It turns out that $U$ is approximately normally-distributed, given a large enough sample size. If we have $n_1$ data points in the first group and $n_2$ points in the second, then we have a total of $n_1 n_2$ matchups and an equivalent number of victory points to hand out. Under the null hypothesis, we should expect the number of wins to be evenly distributed between groups, and so the expected wins are $\\mu_U = \\frac{n_1 n_2}{2}$. The variability in the number of wins can be found to be the following equation (assuming no or few ties):\n",
    "\n",
    "$$ \n",
    "\\sigma_U = \\sqrt{\\frac{n_1n_2(n_1+n_2+1)}{12}}\n",
    "$$\n",
    "\n",
    "These $\\mu_U$ and $\\sigma_U$ values can then be used to compute a standard normal z-score, which generates a p-value. Implement this method of performing the rank-sum test in the cells below!\"\n",
    "\n",
    "- HINT: scipy stats' [`norm`](https://docs.scipy.org/doc/scipy/reference/generated/scipy.stats.norm.html) class can be used to obtain p-values after computing a z-score."
   ]
  },
  {
   "cell_type": "code",
   "execution_count": 48,
   "id": "b71de900",
   "metadata": {},
   "outputs": [],
   "source": [
    "#########1#########2#########3#########4#########5#########6#########7#########8\n",
    "def fn_ranked_sum(x, \n",
    "                  y, \n",
    "                  alternative='two-sided',\n",
    "                  verbose=False):\n",
    "    '''This function returns a p-value for a ranked-sum test. It is presumed \n",
    "    that there are no ties.\n",
    "    Inputs:\n",
    "      - x (mandatory) - a vector of numpy Float, as the first entry\n",
    "      - y (mandatory)  - a vector of numpy Float, as the second entry\n",
    "      - alternative (optional) - the test to be performed (options:'two-sided', \n",
    "        'less', 'greater') (default='two-sided')\n",
    "    Output:\n",
    "      - an estimative for p-value for the ranked test\n",
    "    '''\n",
    "    if verbose:\n",
    "        print('###function ranked sum started')        \n",
    "    begin=time()\n",
    "    \n",
    "    #U\n",
    "    u = 0\n",
    "    for i in x:\n",
    "        wins = (i > y).sum()\n",
    "        ties = (i == y).sum()\n",
    "        u += wins + 0.5 * ties\n",
    "    \n",
    "    #z-score\n",
    "    n_1 = x.shape[0]\n",
    "    n_2 = y.shape[0]\n",
    "    mean_u = n_1 * n_2 / 2\n",
    "    sd_u = np.sqrt( n_1 * n_2 * (n_1 + n_2 + 1) / 12 )\n",
    "    z = (u - mean_u) / sd_u\n",
    "    \n",
    "    #rules for the p-value, according to the test\n",
    "    if alternative == 'two-sided':\n",
    "        p = 2 * stats.norm.cdf(-np.abs(z))\n",
    "    if alternative == 'less':\n",
    "        p = stats.norm.cdf(z)\n",
    "    elif alternative == 'greater':\n",
    "        p = stats.norm.cdf(-z)\n",
    "        \n",
    "    end = time()\n",
    "    if verbose:\n",
    "        print('elapsed time: {:.4f}s'.format(end-begin))\n",
    "    \n",
    "    return p"
   ]
  },
  {
   "cell_type": "code",
   "execution_count": 49,
   "id": "bbc394e1",
   "metadata": {},
   "outputs": [
    {
     "data": {
      "text/html": [
       "<div>\n",
       "<style scoped>\n",
       "    .dataframe tbody tr th:only-of-type {\n",
       "        vertical-align: middle;\n",
       "    }\n",
       "\n",
       "    .dataframe tbody tr th {\n",
       "        vertical-align: top;\n",
       "    }\n",
       "\n",
       "    .dataframe thead th {\n",
       "        text-align: right;\n",
       "    }\n",
       "</style>\n",
       "<table border=\"1\" class=\"dataframe\">\n",
       "  <thead>\n",
       "    <tr style=\"text-align: right;\">\n",
       "      <th></th>\n",
       "      <th>condition</th>\n",
       "      <th>time</th>\n",
       "    </tr>\n",
       "  </thead>\n",
       "  <tbody>\n",
       "    <tr>\n",
       "      <th>0</th>\n",
       "      <td>0</td>\n",
       "      <td>5940</td>\n",
       "    </tr>\n",
       "    <tr>\n",
       "      <th>1</th>\n",
       "      <td>0</td>\n",
       "      <td>666</td>\n",
       "    </tr>\n",
       "    <tr>\n",
       "      <th>2</th>\n",
       "      <td>1</td>\n",
       "      <td>571</td>\n",
       "    </tr>\n",
       "    <tr>\n",
       "      <th>3</th>\n",
       "      <td>1</td>\n",
       "      <td>779</td>\n",
       "    </tr>\n",
       "    <tr>\n",
       "      <th>4</th>\n",
       "      <td>0</td>\n",
       "      <td>1928</td>\n",
       "    </tr>\n",
       "  </tbody>\n",
       "</table>\n",
       "</div>"
      ],
      "text/plain": [
       "   condition  time\n",
       "0          0  5940\n",
       "1          0   666\n",
       "2          1   571\n",
       "3          1   779\n",
       "4          0  1928"
      ]
     },
     "execution_count": 49,
     "metadata": {},
     "output_type": "execute_result"
    }
   ],
   "source": [
    "data = pd.read_csv('data/permutation_data.csv')\n",
    "data.head(5)"
   ]
  },
  {
   "cell_type": "code",
   "execution_count": 50,
   "id": "13321052",
   "metadata": {},
   "outputs": [
    {
     "data": {
      "image/png": "[encoded data removed]",
      "text/plain": [
       "<Figure size 432x288 with 1 Axes>"
      ]
     },
     "metadata": {
      "needs_background": "light"
     },
     "output_type": "display_data"
    }
   ],
   "source": [
    "# data visualization\n",
    "bin_borders = np.arange(0, data['time'].max()+400, 400)\n",
    "plt.hist(data[data['condition'] == 0]['time'], alpha = 0.5, bins = bin_borders)\n",
    "plt.hist(data[data['condition'] == 1]['time'], alpha = 0.5, bins = bin_borders)\n",
    "plt.legend(labels = ['control', 'experiment']);"
   ]
  },
  {
   "cell_type": "code",
   "execution_count": 51,
   "id": "c48bc293",
   "metadata": {},
   "outputs": [
    {
     "name": "stdout",
     "output_type": "stream",
     "text": [
      "###function ranked sum started\n",
      "elapsed time: 3.8067s\n"
     ]
    },
    {
     "data": {
      "text/plain": [
       "0.001752226502296106"
      ]
     },
     "execution_count": 51,
     "metadata": {},
     "output_type": "execute_result"
    }
   ],
   "source": [
    "fn_ranked_sum(x=data[data['condition'] == 0]['time'],\n",
    "              y=data[data['condition'] == 1]['time'],\n",
    "              alternative='greater',\n",
    "              verbose=True)"
   ]
  },
  {
   "cell_type": "markdown",
   "id": "fdab6355",
   "metadata": {},
   "source": [
    "### Rank-Sum Test Notes\n",
    "\n",
    "#### in Udacity notes:\n",
    "\n",
    "\"For smaller sample sizes, something like the permutation test can be performed. After exhaustively checking the distribution of victories for every possible assignment of group labels to value, a p-value can be computed for how unusual the actually-observed $U$ was.\n",
    "\n",
    "Also, there already exists a function in the scipy stats package [`mannwhitneyu`](https://docs.scipy.org/doc/scipy/reference/generated/scipy.stats.mannwhitneyu.html) that performs the Mann Whitney U test. This function considers more factors than the implementation above, including a correction on the standard deviation for ties and a continuity correction (since we're approximating a discretely-valued distribution with a continuous one). In addition, the approach they take is computationally more efficient, based on the sum of value ranks (hence the rank-sum test name) rather than the matchups explanation provided above.\"\n",
    "\n",
    "Reference: [Wikipedia](https://en.wikipedia.org/wiki/Mann%E2%80%93Whitney_U_test)"
   ]
  },
  {
   "cell_type": "code",
   "execution_count": 52,
   "id": "2a3e6254",
   "metadata": {},
   "outputs": [
    {
     "data": {
      "text/plain": [
       "MannwhitneyuResult(statistic=3273546.0, pvalue=0.001752280226004597)"
      ]
     },
     "execution_count": 52,
     "metadata": {},
     "output_type": "execute_result"
    }
   ],
   "source": [
    "stats.mannwhitneyu(data[data['condition'] == 0]['time'],\n",
    "                   data[data['condition'] == 1]['time'],\n",
    "                   alternative='greater')"
   ]
  },
  {
   "cell_type": "markdown",
   "id": "587075d6",
   "metadata": {},
   "source": [
    "### Sign Test\n",
    "\n",
    "#### in Udacity notes:\n",
    "\n",
    "\"The sign test also only uses the collected data to compute a test result. It only requires that there be paired values between two groups to compare, and tests whether one group's values tend to be higher than the other's.\n",
    "\n",
    "In the sign test, we don't care how large differences are between groups, only which group takes a larger value. So a comparison of 0.21 vs. 0.22 and 0.21 vs. 0.31 are both counted equally as a point in favor of the second group. This makes the sign test a fairly weak test, though also a test that can be applied fairly broadly. It's most useful when we have very few observations to draw from and can't make a good assumption of underlying distribution characteristics. For example, you might use a sign test as an additional check on click rates that have been aggregated on a daily basis.\n",
    "\n",
    "The count of victories for a particular group can be modeled with the binomial distribution. Under the null hypothesis, it is equally likely that either group has a larger value (in the case of a tie, we ignore the comparison): the binomial distribution's success parameter is $p = 0.5$. Implement the sign test in the function below!\"\n",
    "\n",
    "- HINT: scipy stats' [`binom`](https://docs.scipy.org/doc/scipy/reference/generated/scipy.stats.binom.html) class can be used to obtain p-values after computing the number of matchups and victories."
   ]
  },
  {
   "cell_type": "code",
   "execution_count": 53,
   "id": "d0957eb1",
   "metadata": {},
   "outputs": [],
   "source": [
    "#########1#########2#########3#########4#########5#########6#########7#########8\n",
    "def fn_sign_test(x, \n",
    "                 y, \n",
    "                 alternative='two-sided',\n",
    "                 verbose=False):\n",
    "    '''This function returns a p-value for a ranked-sum test. It is presumed\n",
    "    that there are no ties.\n",
    "    Input parameters:\n",
    "      - x  1-D array-like of data for first group\n",
    "        y: 1-D array-like of data for second group\n",
    "        alternative: type of test to perform, {'two-sided', less', 'greater'}\n",
    "    Inputs:\n",
    "      - x (mandatory) - a vector of numpy Float, as the first entry\n",
    "      - y (mandatory)  - a vector of numpy Float, as the second entry\n",
    "      - alternative (optional) - the test to be performed (options:'two-sided', \n",
    "        'less', 'greater') (default='two-sided')\n",
    "    Output:\n",
    "      - an estimative for p-value for the sign test\n",
    "    '''\n",
    "    if verbose:\n",
    "        print('###function sign test started')        \n",
    "    begin=time()\n",
    "   \n",
    "    # compute parameters\n",
    "    n = x.shape[0] - (x == y).sum()\n",
    "    k = (x > y).sum() - (x == y).sum()\n",
    "\n",
    "    # compute a p-value\n",
    "    if alternative == 'two-sided':\n",
    "        p = min(1, 2 * stats.binom(n, 0.5).cdf(min(k, n-k)))\n",
    "    if alternative == 'less':\n",
    "        p = stats.binom(n, 0.5).cdf(k)\n",
    "    elif alternative == 'greater':\n",
    "        p = stats.binom(n, 0.5).cdf(n-k)\n",
    "\n",
    "    end = time()\n",
    "    if verbose:\n",
    "        print('elapsed time: {:.6f}s'.format(end-begin))\n",
    "   \n",
    "    return p"
   ]
  },
  {
   "cell_type": "code",
   "execution_count": 54,
   "id": "368f4339",
   "metadata": {},
   "outputs": [
    {
     "data": {
      "text/html": [
       "<div>\n",
       "<style scoped>\n",
       "    .dataframe tbody tr th:only-of-type {\n",
       "        vertical-align: middle;\n",
       "    }\n",
       "\n",
       "    .dataframe tbody tr th {\n",
       "        vertical-align: top;\n",
       "    }\n",
       "\n",
       "    .dataframe thead th {\n",
       "        text-align: right;\n",
       "    }\n",
       "</style>\n",
       "<table border=\"1\" class=\"dataframe\">\n",
       "  <thead>\n",
       "    <tr style=\"text-align: right;\">\n",
       "      <th></th>\n",
       "      <th>day</th>\n",
       "      <th>control</th>\n",
       "      <th>exp</th>\n",
       "    </tr>\n",
       "  </thead>\n",
       "  <tbody>\n",
       "    <tr>\n",
       "      <th>0</th>\n",
       "      <td>1</td>\n",
       "      <td>0.09610</td>\n",
       "      <td>0.09715</td>\n",
       "    </tr>\n",
       "    <tr>\n",
       "      <th>1</th>\n",
       "      <td>2</td>\n",
       "      <td>0.07357</td>\n",
       "      <td>0.06954</td>\n",
       "    </tr>\n",
       "    <tr>\n",
       "      <th>2</th>\n",
       "      <td>3</td>\n",
       "      <td>0.10030</td>\n",
       "      <td>0.08782</td>\n",
       "    </tr>\n",
       "    <tr>\n",
       "      <th>3</th>\n",
       "      <td>4</td>\n",
       "      <td>0.07225</td>\n",
       "      <td>0.06936</td>\n",
       "    </tr>\n",
       "    <tr>\n",
       "      <th>4</th>\n",
       "      <td>5</td>\n",
       "      <td>0.06173</td>\n",
       "      <td>0.09893</td>\n",
       "    </tr>\n",
       "  </tbody>\n",
       "</table>\n",
       "</div>"
      ],
      "text/plain": [
       "   day  control      exp\n",
       "0    1  0.09610  0.09715\n",
       "1    2  0.07357  0.06954\n",
       "2    3  0.10030  0.08782\n",
       "3    4  0.07225  0.06936\n",
       "4    5  0.06173  0.09893"
      ]
     },
     "execution_count": 54,
     "metadata": {},
     "output_type": "execute_result"
    }
   ],
   "source": [
    "data = pd.read_csv('data/signtest_data.csv')\n",
    "data.head(5)"
   ]
  },
  {
   "cell_type": "code",
   "execution_count": 55,
   "id": "5a596f14",
   "metadata": {},
   "outputs": [
    {
     "name": "stderr",
     "output_type": "stream",
     "text": [
      "No handles with labels found to put in legend.\n"
     ]
    },
    {
     "data": {
      "image/png": "[encoded data removed]",
      "text/plain": [
       "<Figure size 432x288 with 1 Axes>"
      ]
     },
     "metadata": {
      "needs_background": "light"
     },
     "output_type": "display_data"
    }
   ],
   "source": [
    "# data visualization\n",
    "plt.plot(data['day'], data['control'])\n",
    "plt.plot(data['day'], data['exp'])\n",
    "plt.legend()\n",
    "\n",
    "plt.xlabel('Day of Experiment')\n",
    "plt.ylabel('Success rate');"
   ]
  },
  {
   "cell_type": "code",
   "execution_count": 56,
   "id": "f1f3ca30",
   "metadata": {},
   "outputs": [
    {
     "data": {
      "text/plain": [
       "0.08978271484375"
      ]
     },
     "execution_count": 56,
     "metadata": {},
     "output_type": "execute_result"
    }
   ],
   "source": [
    "fn_sign_test(x=data['control'], \n",
    "             y=data['exp'], \n",
    "             alternative='less')"
   ]
  },
  {
   "cell_type": "markdown",
   "id": "75193674",
   "metadata": {},
   "source": [
    "---\n",
    "\n",
    "## Missing Data\n",
    "\n",
    "**NaN** is not the same thing as an **zero**:\n",
    "\n",
    "- for zero, you have one value for the data, NaN is the absence of data\n",
    "\n",
    "- so you can **exclude** all rows that have NaN values $\\rightarrow$ this **shrinks** your data to train/test Machine Learning\n",
    "\n",
    "- you can insert the **mean** of the colum on NaN $\\rightarrow$ this **dissolves** the error on the feature for training Machine Learning\n",
    "\n",
    "- you can just insert a **Zero** $\\rightarrow$ except in specific cases, that is **not** a good strategy\n",
    "\n",
    "- you can **train** a Machine Learning for data completion $\\rightarrow$ if you stops here, fair enough. But if then you use this feature for training another Machine Learning, you are inducing too much **noise** to the model\n",
    "\n",
    "- you can **randomize** and inserting some data, preserving both **mean** and **standard deviation** $\\rightarrow$ sometimes this approach is better than just inserting the **mean**\n",
    "\n",
    "- you can **look** for more data $\\rightarrow$ this has high **human cost**\n",
    "\n",
    "\n",
    "## Analysing Multiple Metrics\n",
    "\n",
    "Take care of the **criteria** to call your experiment as a success!\n",
    "\n",
    "- assume **independence/dependence** of some of the measured variables?\n",
    "\n",
    "- an experiment, with 2 variables, with 5% general percentage of error, what is the probability to call a fail experiment, a success?\n",
    "\n",
    "  - 10% $\\rightarrow$ both have tails on the percentage graph, so 2 sides of tails **duplicate** the uncertainty!\n",
    "  \n",
    "#### In Udacity notes:\n",
    "\n",
    "\"If you're tracking multiple evaluation metrics, make sure that you're aware of how the Type I error rates on individual metrics can affect the overall chance of making some kind of Type I error. The simplest case we can consider is if we have _n_ independent evaluation metrics, and that seeing one with a statistically significant result would be enough to call the manipulation a success. In this case, the probability of making at least one Type I error is given by $\\alpha_{over} = 1 - (1-\\alpha_{ind})^n$ , illustrated in the below image for individual $\\alpha_{ind} = .05$ and $\\alpha_{ind} = .01:\n",
    " \n",
    "![multimetrics](graphs/multimetrics1.png)\n",
    "\n",
    "To protect against this, we need to introduce a correction factor on the individual test error rate so that the overall error rate is at most the desired level. A conservative approach is to divide the overall error rate by the number of metrics tested:\n",
    "\n",
    "$\\alpha_{ind} = \\alpha_{over}/n$\n",
    "\n",
    "This is known as the Bonferroni correction. If we assume independence between metrics, we can do a little bit better with the Šidák correction:\n",
    "\n",
    "$\\alpha_{ind} = 1-(1-\\alpha_{over})^{1/n}\n",
    "\n",
    "![multimetrics](graphs/multimetrics2.png)\n",
    "\n",
    "The Šidák correction is only slightly higher than the line drawn by the Bonferroni correction.\n",
    "\n",
    "In real life, evaluation scenarios are rarely so straightforward. Metrics will likely be correlated in some way, rather than being independent. If a positive correlation exists, then knowing the outcome of one metric will make it more likely for a correlated metric to also point in the same way. In this case, the corrections above will be more conservative than necessary, resulting in an overall error rate smaller than the desired level. (In cases of negative correlation, the true error rate could go either way, depending on the types of tests performed.)\n",
    "\n",
    "In addition, we might need multiple metrics to show statistical significance to call an experiment a success, or there may be different degrees of success depending on which metrics appear to be moved by the manipulation. One metric may not be enough to make it worth deploying a change tested in an experiment. Reducing the individual error rate will make it harder for a truly significant effect to show up as statistically significant. That is, reducing the Type I error rate will also increase the Type II error rate – another conservative shift.\n",
    "\n",
    "Ultimately, there is a small balancing act when it comes to selecting an error-controlling scheme. Being fully conservative with one of the simple corrections above means that you increase the risk of failing to roll out changes that actually have an impact on metrics. Consider the level of dependence between metrics and what results are needed to declare a success to calibrate the right balance in error rates. If you need to see a significant change in all of your metrics to proceed with it, you might not need a correction factor at all. You can also use dummy test results, bootstrapping, and permutation approaches to plan significance thresholds. Finally, don't forget that practical significance can be an all-important quality that overrides other statistical significance findings.\n",
    "\n",
    "While the main focus of this page has been on interpretation of evaluation metrics, it's worth noting that these cautions also apply to invariant metrics. The more invariant metrics you test, the more likely it will be that some test will show a statistically significant difference even if the groups tested are drawn from equivalent populations. However, it might not be a good idea to apply a correction factor to individual tests since we want to avoid larger issues with interpretation later on. As mentioned previously, a single invariant metric showing a statistically significant difference is not necessarily cause for alarm, but it is something that merits follow-up in case it does have an effect on our analysis.\"\n",
    "\n",
    "---\n",
    "\n",
    "## Fifth Notebook - L14 - Early Stopping\n",
    "\n",
    "#### In Udacity notes:\n",
    "\n",
    "\"If you peek at the results of an experiment before data collection is complete, and choose to stop early because the test is showing statistical significance, you run the risk of a significant increase in your Type I error rate: believing that your experiment had an effect, when in fact it did not. In this notebook, you'll duplicate the assertions made in the video: namely that for an experiment based off of a single traditional statistical test, doing a single peek halfway through the run-time will increase a base Type I error rate from 5% to about 8.6%.\""
   ]
  },
  {
   "cell_type": "markdown",
   "id": "37ba3a12",
   "metadata": {},
   "source": [
    "#### In Udacity notes:\n",
    "\n",
    "\"The simulation function below uses a bernoulli / binomial success model for the outcome metric, measuring against a historic baseline. That is, each observation is a single coin flip with success probability \"p\". If we see a number of successes that is unusual for our baseline value of \"p\", then we declare a statistically significant result. We will divide the experiment length into multiple 'blocks', checking the status of the experiment after each block is complete. Our outputs of interest are the proportion of trials that are statistically significant in _any_ test, and the proportion of trials that are statistically significant after _each_ individual block.\"\n",
    "\n",
    "#### Task\n",
    "\n",
    "There are three main steps to filling out the `peeking_sim()` function.\n",
    "\n",
    "1. Simulate some data\n",
    " - Compute the number of trials per block. For simplicity, just round up any fractions so that each block has the same number of trials: we might end up with slightly more trials per block than the corresponding function parameter.\n",
    " - Generate a data matrix with the number of successes observed in each block: the number of rows should be the number of simulations and the number of columns the number of blocks. You can do this with a single call to numpy's [`random.binomial`](https://docs.scipy.org/doc/numpy/reference/generated/numpy.random.binomial.html) function.\n",
    "2. Compute z-scores at each 'peek'\n",
    " - For each row, compute the cumulative number of successes after each 'block' of the experiment using numpy's [`cumsum`](https://docs.scipy.org/doc/numpy/reference/generated/numpy.cumsum.html) function. The result should be a matrix with the same dimensions as the data, but each column cumulatively adds up the values in each row up to that point.\n",
    " - Compute the expected mean and standard deviation for the number of successes after each 'block' of the experiment. Remember that this will be based on the [binomial distribution](https://en.wikipedia.org/wiki/Binomial_distribution) and is centered on the raw counts, rather than proportion of successes. It'll be useful to create a vector with the cumulative sum of trials after each block to facilitate these calculations.\n",
    " - Use the cumulative counts, the expected counts, and the standard deviations, to compute the z-scores for each peek at the experiment.\n",
    "3. Aggregate test outcomes\n",
    " - Compute a critical z-value using the supposed Type I error rate. Use this critical value to flag which of the z-scores would be counted as statistically significant, and which would not.\n",
    " - The proportion of trials that are significant at _any_ test will be the proportion of rows that have at least one flagged value. The proportion of trials that are significant at _each_ block will be the mean number of flagged values in each column; this will be a 1-d array. Return both of these values as the output of the function."
   ]
  },
  {
   "cell_type": "code",
   "execution_count": 57,
   "id": "1271f997",
   "metadata": {},
   "outputs": [],
   "source": [
    "#########1#########2#########3#########4#########5#########6#########7#########8\n",
    "def fn_peeking_sim(alpha=0.05, \n",
    "                   p=0.5, \n",
    "                   n_trials=1000,\n",
    "                   n_blocks=2,\n",
    "                   n_sims=10_000,\n",
    "                   verbose=False):\n",
    "    '''This function aims to simulate the rate of Type I error (false positive) \n",
    "    produced by the early stopping decision. It is based on a significant result\n",
    "    when peeking ahead.\n",
    "    Inputs:\n",
    "        - alpha (optional) - Type I error rate that was supposed\n",
    "        - p (optional) - probability of individual trial success\n",
    "        - n_trials (optional) - number of trials in a full experiment\n",
    "        - n_blocks (optional) - number of times data is looked at (including end)\n",
    "        - n_sims: Number of simulated experiments run\n",
    "    Output:\n",
    "        p_sig_any: proportion of simulations significant at any check point, \n",
    "        p_sig_each: proportion of simulations significant at each check point\n",
    "    '''\n",
    "    if verbose:\n",
    "        print('###function peeking sim started')        \n",
    "    begin=time()\n",
    "    \n",
    "    #generate the data\n",
    "    trials_per_block = np.ceil(n_trials / n_blocks).astype(int)\n",
    "    data = np.random.binomial(trials_per_block, p, [n_sims, n_blocks])\n",
    "    \n",
    "    #put the data under a standard\n",
    "    data_cumsum = np.cumsum(data, axis = 1)\n",
    "    block_sizes = trials_per_block * np.arange(1, n_blocks+1, 1)\n",
    "    block_means = block_sizes * p\n",
    "    block_sds   = np.sqrt(block_sizes * p * (1-p))\n",
    "    data_zscores = (data_cumsum - block_means) / block_sds\n",
    "    \n",
    "    #results\n",
    "    z_crit = stats.norm.ppf(1-alpha/2)\n",
    "    sig_flags = np.abs(data_zscores) > z_crit\n",
    "    p_sig_any = (sig_flags.sum(axis = 1) > 0).mean()\n",
    "    p_sig_each = sig_flags.mean(axis = 0)\n",
    "    \n",
    "    tuple = (p_sig_any, p_sig_each)\n",
    "    \n",
    "    end = time()\n",
    "    if verbose:\n",
    "        print('elapsed time: {:.6f}s'.format(end-begin))\n",
    "    \n",
    "    return tuple"
   ]
  },
  {
   "cell_type": "markdown",
   "id": "b2a24d0e",
   "metadata": {},
   "source": [
    "#### In Udacity notes:\n",
    "\n",
    "\"Running the function on the default parameters as given should return a tuple of results where the probability of any significant test outcome across the two blocks is around 8.6% and the probability of a significant test outcome at each individual block checkpoint is around 5%. Increase the number of trials and number of simulations to get more accurate estimates. You should also see how the overall Type I error rate increases with additional peeks!\""
   ]
  },
  {
   "cell_type": "code",
   "execution_count": 58,
   "id": "be4df561",
   "metadata": {},
   "outputs": [
    {
     "name": "stdout",
     "output_type": "stream",
     "text": [
      "###function peeking sim started\n",
      "elapsed time: 0.064959s\n"
     ]
    },
    {
     "data": {
      "text/plain": [
       "(0.08315, array([0.04877, 0.05082]))"
      ]
     },
     "execution_count": 58,
     "metadata": {},
     "output_type": "execute_result"
    }
   ],
   "source": [
    "fn_peeking_sim(n_trials=10_000, \n",
    "               n_sims=100_000,\n",
    "               verbose=True)"
   ]
  },
  {
   "cell_type": "markdown",
   "id": "9bc1c462",
   "metadata": {},
   "source": [
    "### A Multiple Comparisons Approach to Early Peeking\n",
    "\n",
    "#### In Udacity notes:\n",
    "\n",
    "\"The safest way we could deal with performing multiple checks and making poor early stopping decisions is to simply not do it. Once an experiment has been planned and all assignment procedures checked, you should just let the experiment run to completion and just assess the results at the very end. That's not to say that you can't perform early stopping, but it does require additional planning.\n",
    "\n",
    "One way in which you could solve for multiple peeking is to adjust the significance level of individual tests so that the overall error rate is at its desired level. But applying the Bonferroni or Šidák corrections as shown earlier in the lesson will definitely be too conservative, since we know that there is a correlation in test results between peeks. If we see some simulated run with z-score above the threshold at the halfway point, it's more likely to be above that threshold at the end point, compared to some other simulated run that is not statistically significant at the halfway point. One way in which we can obtain a better significance threshold is through the power of simulation. After performing the same steps 1 and 2 above, we want to find a significance level that would call our desired proportion of simulated tests as statistically significant:\n",
    "\n",
    "#### Task\n",
    "\n",
    "1. Simulate some data (as above)\n",
    "2. Compute z-scores at each 'peek' (as above)\n",
    "3. Obtain required individual-test error rate\n",
    "  - A run is considered statistically significant if it exceeds the critical bounds at _any_ peek. Obtain the maximum z-score from each row as a worst-case scenario for a null run to be falsely rejected.\n",
    "  - Find the z-score threshold that would reject our desired overall Type I error rate.\n",
    "  - Convert that z-score into an equivalent individual-test error rate."
   ]
  },
  {
   "cell_type": "code",
   "execution_count": 61,
   "id": "982355f8",
   "metadata": {},
   "outputs": [],
   "source": [
    "#########1#########2#########3#########4#########5#########6#########7#########8\n",
    "def fn_peeking_correction(alpha=0.05, \n",
    "                          p=-0.5, \n",
    "                          n_trials=1000, \n",
    "                          n_blocks=2, \n",
    "                          n_sims=10000,\n",
    "                          verbose=False):\n",
    "    '''This function make a estimative of the individual error rate necessary\n",
    "    to limit the Type I error (false positive) rate, if an early stopping decision\n",
    "    is made. It uses a simulation, to predict if significant result could exist\n",
    "    when peeking ahead.\n",
    "    Inputs:\n",
    "      - alpha (optional) - overall Type I error (false positive) rate that was \n",
    "        desired for the experiment - (numpy Float - default=5%) \n",
    "      - p (optional): probability of obtaining a success on an individual trial -\n",
    "        (numpy Float - default=-50%)\n",
    "      - n_trials (optional): number of trials that runs in a full experiment\n",
    "        (Integer - default=10000)\n",
    "      - n_blocks (optional): number of times that a a data is looked for\n",
    "        (including the end) - (Integer - default=2)\n",
    "      - n_sims (optional) - number of times that the simulated experiments run\n",
    "        (Integer - default=10000)\n",
    "    Output:\n",
    "        alpha_ind: Individual error rate required to achieve overall error rate\n",
    "    '''\n",
    "    if verbose:\n",
    "        print('###function peeking correction started')        \n",
    "    begin=time()\n",
    "    \n",
    "    #data generation\n",
    "    trials_per_block = np.ceil(n_trials / n_blocks).astype(int)\n",
    "    try:\n",
    "        data = np.random.binomial(trials_per_block, p, [n_sims, n_blocks])\n",
    "    except ValueError:\n",
    "        print('something went wrong doing binomials - p seems to be invalid!')\n",
    "        return (trials_per_block, p, [n_sims, n_blocks])\n",
    "    \n",
    "    #data standardization\n",
    "    data_cumsum = np.cumsum(data, axis = 1)\n",
    "    block_sizes = trials_per_block * np.arange(1, n_blocks+1, 1)\n",
    "    block_means = block_sizes * p\n",
    "    block_sds   = np.sqrt(block_sizes * p * (1-p))\n",
    "    data_zscores = (data_cumsum - block_means) / block_sds\n",
    "    \n",
    "    #the necessary individual error rate\n",
    "    max_zscores = np.abs(data_zscores).max(axis = 1)\n",
    "    z_crit_ind = np.percentile(max_zscores, 100 * (1 - alpha))\n",
    "    alpha_ind = 2 * (1 - stats.norm.cdf(z_crit_ind))\n",
    "    \n",
    "    if verbose:\n",
    "        print('elapsed time: {:.6f}s'.format(end-begin))\n",
    "\n",
    "    return alpha_ind"
   ]
  },
  {
   "cell_type": "markdown",
   "id": "76d23953",
   "metadata": {},
   "source": [
    "#### In Udacity notes:\n",
    "\n",
    "\"Running the function on the default parameters should give a required individual error rate of about .029. Note how this is somewhat higher than the .025 or .0253 that would have been generated from the Bonferroni and Šidák corrections, respectively. Test with a higher number of simulations and trials to get more accurate estimates, and try out different numbers of blocks to see how it changes the individual error rate needed. The results should approximately match up with the numbers given in the table in the middle of [this article](https://www.evanmiller.org/how-not-to-run-an-ab-test.html); note that peeking $n$ times means splitting the experiment into $n + 1$ blocks.\""
   ]
  },
  {
   "cell_type": "code",
   "execution_count": 60,
   "id": "f756fa12",
   "metadata": {},
   "outputs": [
    {
     "name": "stdout",
     "output_type": "stream",
     "text": [
      "###function peeking correction started\n"
     ]
    },
    {
     "ename": "ValueError",
     "evalue": "p < 0, p > 1 or p is NaN",
     "output_type": "error",
     "traceback": [
      "\u001b[1;31m---------------------------------------------------------------------------\u001b[0m",
      "\u001b[1;31mValueError\u001b[0m                                Traceback (most recent call last)",
      "\u001b[1;32m~\\AppData\\Local\\Temp/ipykernel_2704/1021601291.py\u001b[0m in \u001b[0;36m<module>\u001b[1;34m\u001b[0m\n\u001b[1;32m----> 1\u001b[1;33m fn_peeking_correction(n_trials=10000, \n\u001b[0m\u001b[0;32m      2\u001b[0m                       \u001b[0mn_sims\u001b[0m \u001b[1;33m=\u001b[0m \u001b[1;36m100000\u001b[0m\u001b[1;33m,\u001b[0m\u001b[1;33m\u001b[0m\u001b[1;33m\u001b[0m\u001b[0m\n\u001b[0;32m      3\u001b[0m                       verbose=True)\n",
      "\u001b[1;32m~\\AppData\\Local\\Temp/ipykernel_2704/2962435310.py\u001b[0m in \u001b[0;36mfn_peeking_correction\u001b[1;34m(alpha, p, n_trials, n_blocks, n_sims, verbose)\u001b[0m\n\u001b[0;32m     30\u001b[0m     \u001b[1;31m#data generation\u001b[0m\u001b[1;33m\u001b[0m\u001b[1;33m\u001b[0m\u001b[1;33m\u001b[0m\u001b[0m\n\u001b[0;32m     31\u001b[0m     \u001b[0mtrials_per_block\u001b[0m \u001b[1;33m=\u001b[0m \u001b[0mnp\u001b[0m\u001b[1;33m.\u001b[0m\u001b[0mceil\u001b[0m\u001b[1;33m(\u001b[0m\u001b[0mn_trials\u001b[0m \u001b[1;33m/\u001b[0m \u001b[0mn_blocks\u001b[0m\u001b[1;33m)\u001b[0m\u001b[1;33m.\u001b[0m\u001b[0mastype\u001b[0m\u001b[1;33m(\u001b[0m\u001b[0mint\u001b[0m\u001b[1;33m)\u001b[0m\u001b[1;33m\u001b[0m\u001b[1;33m\u001b[0m\u001b[0m\n\u001b[1;32m---> 32\u001b[1;33m     \u001b[0mdata\u001b[0m \u001b[1;33m=\u001b[0m \u001b[0mnp\u001b[0m\u001b[1;33m.\u001b[0m\u001b[0mrandom\u001b[0m\u001b[1;33m.\u001b[0m\u001b[0mbinomial\u001b[0m\u001b[1;33m(\u001b[0m\u001b[0mtrials_per_block\u001b[0m\u001b[1;33m,\u001b[0m \u001b[0mp\u001b[0m\u001b[1;33m,\u001b[0m \u001b[1;33m[\u001b[0m\u001b[0mn_sims\u001b[0m\u001b[1;33m,\u001b[0m \u001b[0mn_blocks\u001b[0m\u001b[1;33m]\u001b[0m\u001b[1;33m)\u001b[0m\u001b[1;33m\u001b[0m\u001b[1;33m\u001b[0m\u001b[0m\n\u001b[0m\u001b[0;32m     33\u001b[0m \u001b[1;33m\u001b[0m\u001b[0m\n\u001b[0;32m     34\u001b[0m     \u001b[1;31m#data standardization\u001b[0m\u001b[1;33m\u001b[0m\u001b[1;33m\u001b[0m\u001b[1;33m\u001b[0m\u001b[0m\n",
      "\u001b[1;32mmtrand.pyx\u001b[0m in \u001b[0;36mnumpy.random.mtrand.RandomState.binomial\u001b[1;34m()\u001b[0m\n",
      "\u001b[1;32m_common.pyx\u001b[0m in \u001b[0;36mnumpy.random._common.check_constraint\u001b[1;34m()\u001b[0m\n",
      "\u001b[1;31mValueError\u001b[0m: p < 0, p > 1 or p is NaN"
     ]
    }
   ],
   "source": [
    "fn_peeking_correction(n_trials=10000, \n",
    "                      n_sims = 100000,\n",
    "                      verbose=True)"
   ]
  }
 ],
 "metadata": {
  "kernelspec": {
   "display_name": "Python 3 (ipykernel)",
   "language": "python",
   "name": "python3"
  },
  "language_info": {
   "codemirror_mode": {
    "name": "ipython",
    "version": 3
   },
   "file_extension": ".py",
   "mimetype": "text/x-python",
   "name": "python",
   "nbconvert_exporter": "python",
   "pygments_lexer": "ipython3",
   "version": "3.8.11"
  }
 },
 "nbformat": 4,
 "nbformat_minor": 5
}
